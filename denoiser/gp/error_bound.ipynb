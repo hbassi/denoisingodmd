{
 "cells": [
  {
   "cell_type": "code",
   "execution_count": 1,
   "id": "d534dbb3-a99a-4e04-b067-b598beb810f0",
   "metadata": {
    "tags": []
   },
   "outputs": [],
   "source": [
    "import numpy as np\n",
    "from scipy.linalg import cholesky, cho_solve\n",
    "from scipy.spatial.distance import cdist\n",
    "from sklearn.gaussian_process import GaussianProcessRegressor\n",
    "from sklearn.gaussian_process.kernels import RBF, ConstantKernel as C\n",
    "import scipy\n",
    "from tqdm import trange\n",
    "from matplotlib import pyplot as plt"
   ]
  },
  {
   "cell_type": "code",
   "execution_count": 2,
   "id": "5a282c4a-6633-4879-bb20-9c1c98aca2e0",
   "metadata": {
    "tags": []
   },
   "outputs": [],
   "source": [
    "dt = 0.001\n",
    "Tmax = 5000\n",
    "noise = 1.0\n",
    "overlap = 0.2"
   ]
  },
  {
   "cell_type": "code",
   "execution_count": 3,
   "id": "7ca3b97a-3bc2-4df6-9af8-f71b8950c9b0",
   "metadata": {
    "tags": []
   },
   "outputs": [],
   "source": [
    "def generate_samples(E, psi0, dt=1, nb=100):\n",
    "    S = np.zeros(nb, dtype=np.complex128)\n",
    "    for j in trange(nb):\n",
    "        S[j] = np.sum(np.abs(psi0)**2 * np.exp(-1j * E * j * dt))\n",
    "    return S\n",
    "\n",
    "def lam2lamt(lam, lammin, lammax):\n",
    "    lamt = np.pi / 2 * (lam - (lammin + lammax) / 2) / (lammax - lammin)\n",
    "    return lamt\n",
    "\n",
    "def lamt2lam(lamt, lammin, lammax):\n",
    "    lam = lamt * 2 / np.pi * (lammax - lammin) + (lammin + lammax) / 2\n",
    "    return lam\n",
    "\n",
    "def generate_phi(overlap, N):\n",
    "    phi = np.zeros((N,1))\n",
    "    phi[0] = np.sqrt(overlap)\n",
    "    phi[1:] = np.sqrt((1 - phi[0]**2) / (N - 1))\n",
    "    return phi"
   ]
  },
  {
   "cell_type": "code",
   "execution_count": 4,
   "id": "18d44a2f-ba72-4f34-ac81-74b3c10fa7be",
   "metadata": {
    "tags": []
   },
   "outputs": [],
   "source": [
    "data_cr2 = scipy.io.loadmat('../../data/LiH_2989.mat')\n",
    "E = data_cr2['E']\n",
    "Et = lam2lamt(E,E[0],E[-1])"
   ]
  },
  {
   "cell_type": "code",
   "execution_count": 5,
   "id": "e7487368-bdd7-4751-a078-780d7cbbf6ae",
   "metadata": {
    "tags": []
   },
   "outputs": [
    {
     "name": "stdout",
     "output_type": "stream",
     "text": [
      "generated phi\n"
     ]
    },
    {
     "name": "stderr",
     "output_type": "stream",
     "text": [
      "100%|██████████| 5000/5000 [00:00<00:00, 10729.91it/s]\n"
     ]
    }
   ],
   "source": [
    "phi = generate_phi(overlap,len(Et));\n",
    "print('generated phi')\n",
    "dataS = generate_samples(Et,phi,dt,Tmax);"
   ]
  },
  {
   "cell_type": "code",
   "execution_count": 6,
   "id": "4e60a9ae-fd88-4d88-9663-d043f77faf37",
   "metadata": {
    "tags": []
   },
   "outputs": [],
   "source": [
    "# Function to generate noisy data\n",
    "def generate_noisy_data(Tmax, noise, dt):\n",
    "    np.random.seed(999)\n",
    "    t = np.array(list(range(0, Tmax))) * dt\n",
    "    num_trajs = 1000\n",
    "    tdataS = []\n",
    "    for _ in range(num_trajs):\n",
    "        ndataS = (dataS + noise * np.random.randn(len(t))).real\n",
    "        tdataS.append(ndataS)\n",
    "    noisydataS = np.array(tdataS)\n",
    "    average_noisy_signal = np.mean(noisydataS, axis=0)\n",
    "    return t, average_noisy_signal"
   ]
  },
  {
   "cell_type": "code",
   "execution_count": 7,
   "id": "310b4bc5-8214-43d9-b319-077d31c47f41",
   "metadata": {
    "tags": []
   },
   "outputs": [],
   "source": [
    "# Generate the noisy data\n",
    "t, average_noisy_signal = generate_noisy_data(Tmax, noise, dt)"
   ]
  },
  {
   "cell_type": "code",
   "execution_count": 8,
   "id": "3c79270e-60b1-475d-83ab-99fd2860552b",
   "metadata": {
    "tags": []
   },
   "outputs": [
    {
     "data": {
      "text/html": [
       "<style>#sk-container-id-1 {color: black;background-color: white;}#sk-container-id-1 pre{padding: 0;}#sk-container-id-1 div.sk-toggleable {background-color: white;}#sk-container-id-1 label.sk-toggleable__label {cursor: pointer;display: block;width: 100%;margin-bottom: 0;padding: 0.3em;box-sizing: border-box;text-align: center;}#sk-container-id-1 label.sk-toggleable__label-arrow:before {content: \"▸\";float: left;margin-right: 0.25em;color: #696969;}#sk-container-id-1 label.sk-toggleable__label-arrow:hover:before {color: black;}#sk-container-id-1 div.sk-estimator:hover label.sk-toggleable__label-arrow:before {color: black;}#sk-container-id-1 div.sk-toggleable__content {max-height: 0;max-width: 0;overflow: hidden;text-align: left;background-color: #f0f8ff;}#sk-container-id-1 div.sk-toggleable__content pre {margin: 0.2em;color: black;border-radius: 0.25em;background-color: #f0f8ff;}#sk-container-id-1 input.sk-toggleable__control:checked~div.sk-toggleable__content {max-height: 200px;max-width: 100%;overflow: auto;}#sk-container-id-1 input.sk-toggleable__control:checked~label.sk-toggleable__label-arrow:before {content: \"▾\";}#sk-container-id-1 div.sk-estimator input.sk-toggleable__control:checked~label.sk-toggleable__label {background-color: #d4ebff;}#sk-container-id-1 div.sk-label input.sk-toggleable__control:checked~label.sk-toggleable__label {background-color: #d4ebff;}#sk-container-id-1 input.sk-hidden--visually {border: 0;clip: rect(1px 1px 1px 1px);clip: rect(1px, 1px, 1px, 1px);height: 1px;margin: -1px;overflow: hidden;padding: 0;position: absolute;width: 1px;}#sk-container-id-1 div.sk-estimator {font-family: monospace;background-color: #f0f8ff;border: 1px dotted black;border-radius: 0.25em;box-sizing: border-box;margin-bottom: 0.5em;}#sk-container-id-1 div.sk-estimator:hover {background-color: #d4ebff;}#sk-container-id-1 div.sk-parallel-item::after {content: \"\";width: 100%;border-bottom: 1px solid gray;flex-grow: 1;}#sk-container-id-1 div.sk-label:hover label.sk-toggleable__label {background-color: #d4ebff;}#sk-container-id-1 div.sk-serial::before {content: \"\";position: absolute;border-left: 1px solid gray;box-sizing: border-box;top: 0;bottom: 0;left: 50%;z-index: 0;}#sk-container-id-1 div.sk-serial {display: flex;flex-direction: column;align-items: center;background-color: white;padding-right: 0.2em;padding-left: 0.2em;position: relative;}#sk-container-id-1 div.sk-item {position: relative;z-index: 1;}#sk-container-id-1 div.sk-parallel {display: flex;align-items: stretch;justify-content: center;background-color: white;position: relative;}#sk-container-id-1 div.sk-item::before, #sk-container-id-1 div.sk-parallel-item::before {content: \"\";position: absolute;border-left: 1px solid gray;box-sizing: border-box;top: 0;bottom: 0;left: 50%;z-index: -1;}#sk-container-id-1 div.sk-parallel-item {display: flex;flex-direction: column;z-index: 1;position: relative;background-color: white;}#sk-container-id-1 div.sk-parallel-item:first-child::after {align-self: flex-end;width: 50%;}#sk-container-id-1 div.sk-parallel-item:last-child::after {align-self: flex-start;width: 50%;}#sk-container-id-1 div.sk-parallel-item:only-child::after {width: 0;}#sk-container-id-1 div.sk-dashed-wrapped {border: 1px dashed gray;margin: 0 0.4em 0.5em 0.4em;box-sizing: border-box;padding-bottom: 0.4em;background-color: white;}#sk-container-id-1 div.sk-label label {font-family: monospace;font-weight: bold;display: inline-block;line-height: 1.2em;}#sk-container-id-1 div.sk-label-container {text-align: center;}#sk-container-id-1 div.sk-container {/* jupyter's `normalize.less` sets `[hidden] { display: none; }` but bootstrap.min.css set `[hidden] { display: none !important; }` so we also need the `!important` here to be able to override the default hidden behavior on the sphinx rendered scikit-learn.org. See: https://github.com/scikit-learn/scikit-learn/issues/21755 */display: inline-block !important;position: relative;}#sk-container-id-1 div.sk-text-repr-fallback {display: none;}</style><div id=\"sk-container-id-1\" class=\"sk-top-container\"><div class=\"sk-text-repr-fallback\"><pre>GaussianProcessRegressor(alpha=0.0002, kernel=1**2 * RBF(length_scale=1),\n",
       "                         n_restarts_optimizer=10)</pre><b>In a Jupyter environment, please rerun this cell to show the HTML representation or trust the notebook. <br />On GitHub, the HTML representation is unable to render, please try loading this page with nbviewer.org.</b></div><div class=\"sk-container\" hidden><div class=\"sk-item\"><div class=\"sk-estimator sk-toggleable\"><input class=\"sk-toggleable__control sk-hidden--visually\" id=\"sk-estimator-id-1\" type=\"checkbox\" checked><label for=\"sk-estimator-id-1\" class=\"sk-toggleable__label sk-toggleable__label-arrow\">GaussianProcessRegressor</label><div class=\"sk-toggleable__content\"><pre>GaussianProcessRegressor(alpha=0.0002, kernel=1**2 * RBF(length_scale=1),\n",
       "                         n_restarts_optimizer=10)</pre></div></div></div></div></div>"
      ],
      "text/plain": [
       "GaussianProcessRegressor(alpha=0.0002, kernel=1**2 * RBF(length_scale=1),\n",
       "                         n_restarts_optimizer=10)"
      ]
     },
     "execution_count": 8,
     "metadata": {},
     "output_type": "execute_result"
    }
   ],
   "source": [
    "# Fit the Gaussian Process model\n",
    "X = t[:, np.newaxis]\n",
    "y = average_noisy_signal\n",
    "kernel = C(1.0, (1e-6, 1e1)) * RBF(1.0, (1e-4, 1e5))\n",
    "gp = GaussianProcessRegressor(kernel=kernel, n_restarts_optimizer=10, alpha=1.0/t.shape[0])\n",
    "gp.fit(X, y)"
   ]
  },
  {
   "cell_type": "code",
   "execution_count": 9,
   "id": "ee452866-5e48-4120-a240-11aab89676d2",
   "metadata": {
    "tags": []
   },
   "outputs": [],
   "source": [
    "# Predict\n",
    "mean_prediction, std_prediction = gp.predict(X, return_std=True)"
   ]
  },
  {
   "cell_type": "code",
   "execution_count": 10,
   "id": "e033ddb3-5d93-457f-8cfc-8377a07b7741",
   "metadata": {
    "tags": []
   },
   "outputs": [
    {
     "data": {
      "text/plain": [
       "<matplotlib.legend.Legend at 0x7f5aa9f89820>"
      ]
     },
     "execution_count": 10,
     "metadata": {},
     "output_type": "execute_result"
    },
    {
     "data": {
      "image/png": "[encoded data removed]",
      "text/plain": [
       "<Figure size 1000x600 with 1 Axes>"
      ]
     },
     "metadata": {},
     "output_type": "display_data"
    }
   ],
   "source": [
    "plt.figure(figsize=(10, 6))\n",
    "plt.plot(t, dataS.real, 'b-', label='True observables')\n",
    "plt.plot(t, mean_prediction, 'r-', label='GP Mean')\n",
    "plt.fill_between(t, mean_prediction - 2*std_prediction, mean_prediction + 2*std_prediction, color='r', alpha=0.2, label='GP 95% Confidence Interval')\n",
    "#plt.plot(t, average_noisy_signal, 'g.', alpha=0.5, label='Average Noisy Signal')\n",
    "plt.xlabel('t')\n",
    "plt.ylabel('o(t)')\n",
    "plt.legend()\n",
    "#plt.savefig('gp_denoiser_cr2.pdf')"
   ]
  },
  {
   "cell_type": "code",
   "execution_count": 12,
   "id": "25b023b2-a53d-4580-8f23-5ddf3c67db7e",
   "metadata": {
    "tags": []
   },
   "outputs": [],
   "source": [
    "# Compute the kernel matrix\n",
    "def rbf_kernel(x, y, length_scale=1.0):\n",
    "    sqdist = cdist(x, y, 'sqeuclidean')\n",
    "    return np.exp(-0.5 * sqdist / (length_scale**2))"
   ]
  },
  {
   "cell_type": "code",
   "execution_count": 13,
   "id": "6dd0d1e2-80a4-4de7-b080-1da1dde7952c",
   "metadata": {
    "tags": []
   },
   "outputs": [],
   "source": [
    "N = X.shape[0]\n",
    "K = rbf_kernel(X, X)"
   ]
  },
  {
   "cell_type": "code",
   "execution_count": 14,
   "id": "2478a47f-c222-41ff-8eaa-913e7a4e2981",
   "metadata": {
    "tags": []
   },
   "outputs": [],
   "source": [
    "# Add noise variance to the diagonal of the kernel matrix\n",
    "sigma_n2 = noise   # Adjust noise variance\n",
    "K += sigma_n2 * np.eye(N)"
   ]
  },
  {
   "cell_type": "code",
   "execution_count": 15,
   "id": "14cd35b7-341e-4f68-af20-5ead3e626a84",
   "metadata": {
    "tags": []
   },
   "outputs": [],
   "source": [
    "# Invert\n",
    "L = np.linalg.inv(K)"
   ]
  },
  {
   "cell_type": "code",
   "execution_count": 16,
   "id": "17d71dc8-3443-406c-841a-57ba044c2ed4",
   "metadata": {
    "tags": []
   },
   "outputs": [],
   "source": [
    "# Compute alpha for GP prediction\n",
    "alpha = L @ y"
   ]
  },
  {
   "cell_type": "code",
   "execution_count": 17,
   "id": "13f99570-f33d-4841-b4d7-8bac48b021d9",
   "metadata": {
    "tags": []
   },
   "outputs": [],
   "source": [
    "# Compute L_k\n",
    "L_k = np.exp(-0.5)  # For RBF kernel with length scale 1"
   ]
  },
  {
   "cell_type": "code",
   "execution_count": 18,
   "id": "081490d2-e1bd-4c30-9aff-549ace588522",
   "metadata": {
    "tags": []
   },
   "outputs": [],
   "source": [
    "# Compute L_{nu_N}\n",
    "L_nu_N = L_k * np.sqrt(N) * np.linalg.norm(alpha)"
   ]
  },
  {
   "cell_type": "code",
   "execution_count": 19,
   "id": "1652ea5c-1ad1-4355-8b6a-c50a1a1b47c2",
   "metadata": {
    "tags": []
   },
   "outputs": [],
   "source": [
    "# Compute the modulus of continuity\n",
    "def omega_sigma_N(tau, L_k, N, K_inv, grid):\n",
    "    max_k = np.max(rbf_kernel(grid, grid))\n",
    "    return np.sqrt(2 * tau * L_k * (1 + N * np.linalg.norm(K_inv) * max_k))"
   ]
  },
  {
   "cell_type": "code",
   "execution_count": 20,
   "id": "1489b527-025a-497b-857f-efde60d636a4",
   "metadata": {
    "tags": []
   },
   "outputs": [],
   "source": [
    "K_inv = L\n",
    "tau = dt  # Given the grid spacing"
   ]
  },
  {
   "cell_type": "code",
   "execution_count": 21,
   "id": "4575f510-24a9-4d8e-9dd3-18e9068f9fe3",
   "metadata": {
    "tags": []
   },
   "outputs": [],
   "source": [
    "omega_sigma_N_val = omega_sigma_N(tau, L_k, N, K_inv, X)"
   ]
  },
  {
   "cell_type": "code",
   "execution_count": 22,
   "id": "0ace291d-c1ef-4bf6-aec2-9c5fb51df629",
   "metadata": {
    "tags": []
   },
   "outputs": [],
   "source": [
    "# Compute the covering number M(tau, X)\n",
    "def covering_number(X, tau):\n",
    "    return int(np.ceil((np.max(X) - np.min(X)) / tau))"
   ]
  },
  {
   "cell_type": "code",
   "execution_count": 23,
   "id": "4c52544d-9ee2-41d2-8e89-7f2901ade809",
   "metadata": {
    "tags": []
   },
   "outputs": [],
   "source": [
    "M_tau_X = covering_number(X, tau)"
   ]
  },
  {
   "cell_type": "code",
   "execution_count": 24,
   "id": "a8805595-1ac9-4559-9661-1f7475a3a145",
   "metadata": {
    "tags": []
   },
   "outputs": [],
   "source": [
    "# Compute beta(tau)\n",
    "delta = 0.1  # Example confidence level\n",
    "beta_tau = 2 * np.log(M_tau_X / delta)"
   ]
  },
  {
   "cell_type": "code",
   "execution_count": 25,
   "id": "8d7e16be-6ac1-4183-b343-5d7b93494231",
   "metadata": {
    "tags": []
   },
   "outputs": [],
   "source": [
    "# Compute gamma(tau)\n",
    "L_f = 1  # Example value for L_f\n",
    "gamma_tau = (L_nu_N + L_f) * tau + np.sqrt(beta_tau) * omega_sigma_N_val"
   ]
  },
  {
   "cell_type": "code",
   "execution_count": 26,
   "id": "15d702fc-66c6-48e5-8756-ebe5b0cde5da",
   "metadata": {
    "tags": []
   },
   "outputs": [],
   "source": [
    "sigma_N_x = np.max(std_prediction)"
   ]
  },
  {
   "cell_type": "code",
   "execution_count": 27,
   "id": "ad260c6f-62c8-4f86-8a9f-b9e9365ad71e",
   "metadata": {
    "tags": []
   },
   "outputs": [
    {
     "name": "stdout",
     "output_type": "stream",
     "text": [
      "L_k: 0.6065306597126334\n",
      "L_nu_N: 96.94715750909553\n",
      "omega_sigma_N(tau): 20.702615406883762\n",
      "M(tau, X): 4999\n",
      "beta(tau): 21.63915652881523\n",
      "gamma(tau): 96.4021805550488\n"
     ]
    }
   ],
   "source": [
    "# Print the results\n",
    "print(\"L_k:\", L_k)\n",
    "print(\"L_nu_N:\", L_nu_N)\n",
    "print(\"omega_sigma_N(tau):\", omega_sigma_N_val)\n",
    "print(\"M(tau, X):\", M_tau_X)\n",
    "print(\"beta(tau):\", beta_tau)\n",
    "print(\"gamma(tau):\", gamma_tau)"
   ]
  },
  {
   "cell_type": "code",
   "execution_count": 28,
   "id": "5e2a49af-9482-45fa-abde-61a339b78823",
   "metadata": {
    "tags": []
   },
   "outputs": [
    {
     "name": "stdout",
     "output_type": "stream",
     "text": [
      "P(|f(x) - nu_N(x)| <= sqrt(21.63915652881523) * 0.001309868689415568 + 96.4021805550488 = 96.40827379001, forall x in X) >= 0.9\n"
     ]
    }
   ],
   "source": [
    "# Probability bound\n",
    "prob_bound = f\"P(|f(x) - nu_N(x)| <= sqrt({beta_tau}) * {sigma_N_x} + {gamma_tau} = {np.sqrt(beta_tau) * sigma_N_x + gamma_tau}, forall x in X) >= {1 - delta}\"\n",
    "print(prob_bound)"
   ]
  },
  {
   "cell_type": "code",
   "execution_count": 29,
   "id": "2264dfd7-8fc6-4646-bba0-8c4c0e20cfcd",
   "metadata": {
    "tags": []
   },
   "outputs": [],
   "source": [
    "#759.2673895623108, 263.3039427986092, #84.08520289464234, 26.59681720930607"
   ]
  },
  {
   "cell_type": "code",
   "execution_count": 30,
   "id": "09eacf93-d9b9-4d75-b430-f30439c34eea",
   "metadata": {},
   "outputs": [],
   "source": [
    "# 1, 0.1, 0.01, 0.001"
   ]
  },
  {
   "cell_type": "code",
   "execution_count": 31,
   "id": "76f139f5-dc20-4a19-8163-e8ff2b639f49",
   "metadata": {
    "tags": []
   },
   "outputs": [
    {
     "data": {
      "text/plain": [
       "Text(0.5, 1.0, 'Mean GP error bound, $\\\\delta = 0.1$')"
      ]
     },
     "execution_count": 31,
     "metadata": {},
     "output_type": "execute_result"
    },
    {
     "data": {
      "image/png": "[encoded data removed]",
      "text/plain": [
       "<Figure size 400x800 with 2 Axes>"
      ]
     },
     "metadata": {},
     "output_type": "display_data"
    }
   ],
   "source": [
    "values = [759.2673895623108, 263.3039427986092, 84.08520289464234, 26.59681720930607]\n",
    "blocks = [1, 0.1, 0.01, 0.001]\n",
    "data = np.array([[values[i]] for i in range(len(values))])\n",
    "\n",
    "plt.figure(figsize=(4, 8))\n",
    "plt.imshow(data, cmap='viridis', aspect='auto', interpolation='nearest')\n",
    "plt.colorbar(label='Error bound')\n",
    "\n",
    "\n",
    "plt.xticks(ticks=[0], labels=[' 1000'])\n",
    "plt.yticks(ticks=np.arange(len(blocks)), labels=blocks)\n",
    "\n",
    "for i in range(len(values)):\n",
    "    plt.text(0, i, f'{values[i]:.2f}', ha='center', va='center', color='white')\n",
    "plt.xlabel('Tmax')\n",
    "plt.ylabel(r'$\\Delta t$')\n",
    "plt.title(r'Mean GP error bound, $\\delta = 0.1$')"
   ]
  },
  {
   "cell_type": "code",
   "execution_count": null,
   "id": "829851de-0563-4e06-9df7-32639e663438",
   "metadata": {},
   "outputs": [],
   "source": []
  }
 ],
 "metadata": {
  "kernelspec": {
   "display_name": "pytorch-2.0.1",
   "language": "python",
   "name": "pytorch-2.0.1"
  },
  "language_info": {
   "codemirror_mode": {
    "name": "ipython",
    "version": 3
   },
   "file_extension": ".py",
   "mimetype": "text/x-python",
   "name": "python",
   "nbconvert_exporter": "python",
   "pygments_lexer": "ipython3",
   "version": "3.9.16"
  }
 },
 "nbformat": 4,
 "nbformat_minor": 5
}
