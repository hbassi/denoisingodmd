{
 "cells": [
  {
   "cell_type": "code",
   "execution_count": null,
   "id": "32d9c3e6-1f21-47ed-813c-8cfe02f0066d",
   "metadata": {
    "tags": []
   },
   "outputs": [],
   "source": [
    "import numpy as np\n",
    "import matplotlib.pyplot as plt\n",
    "from sklearn.gaussian_process import GaussianProcessRegressor\n",
    "from sklearn.gaussian_process.kernels import RBF, WhiteKernel\n",
    "\n",
    "# Generate ground truth sine wave data\n",
    "np.random.seed(0)\n",
    "time_steps = 750\n",
    "num_series = 2000  # Increase the number of time series for a larger dataset\n",
    "t = np.linspace(0, 2 * np.pi, time_steps)\n",
    "sine_wave = np.sin(t)\n",
    "\n",
    "# Create noisy measurements\n",
    "noise_level = 1  # Noise level for the noisy measurements\n",
    "noisy_data = np.array([sine_wave + np.random.normal(0, noise_level, time_steps) for _ in range(num_series)])\n",
    "\n",
    "# Flatten the training data and corresponding time steps for GP input\n",
    "t_train = np.tile(t, num_series).reshape(-1, 1)\n",
    "y_train = noisy_data.flatten()\n",
    "\n",
    "# Fit a Gaussian Process to the noisy data\n",
    "kernel = RBF(length_scale=1.0) + WhiteKernel(noise_level=noise_level)\n",
    "gp = GaussianProcessRegressor(kernel=kernel, n_restarts_optimizer=10)\n",
    "\n",
    "# Train the GP on the noisy measurements\n",
    "gp.fit(t_train, y_train)\n",
    "\n",
    "# Predict the denoised signal\n",
    "t_pred = t.reshape(-1, 1)\n",
    "denoised_signal, sigma = gp.predict(t_pred, return_std=True)\n",
    "\n",
    "# Plot the results\n",
    "plt.figure(figsize=(15, 6))\n",
    "\n",
    "# Plot the original sine wave\n",
    "plt.subplot(1, 3, 1)\n",
    "plt.plot(t, sine_wave, label='Original Sine Wave')\n",
    "plt.title('Original Sine Wave')\n",
    "plt.xlabel('Time')\n",
    "plt.ylabel('Amplitude')\n",
    "plt.legend()\n",
    "\n",
    "# Plot a sample noisy measurement\n",
    "plt.subplot(1, 3, 2)\n",
    "plt.plot(t, noisy_data[0], label='Noisy Measurement')\n",
    "plt.title('Noisy Measurement')\n",
    "plt.xlabel('Time')\n",
    "plt.ylabel('Amplitude')\n",
    "plt.legend()\n",
    "\n",
    "# Plot the denoised signal\n",
    "plt.subplot(1, 3, 3)\n",
    "plt.plot(t, denoised_signal, label='Denoised Measurement')\n",
    "plt.fill_between(t, denoised_signal - 1.96 * sigma, denoised_signal + 1.96 * sigma, alpha=0.2, color='k')\n",
    "plt.title('Denoised Measurement')\n",
    "plt.xlabel('Time')\n",
    "plt.ylabel('Amplitude')\n",
    "plt.legend()\n",
    "\n",
    "plt.tight_layout()\n",
    "plt.show()\n"
   ]
  },
  {
   "cell_type": "code",
   "execution_count": null,
   "id": "8ec20ff1-2c2a-49c9-ae84-1371d7c206ef",
   "metadata": {},
   "outputs": [],
   "source": []
  }
 ],
 "metadata": {
  "kernelspec": {
   "display_name": "pytorch-2.0.1",
   "language": "python",
   "name": "pytorch-2.0.1"
  },
  "language_info": {
   "codemirror_mode": {
    "name": "ipython",
    "version": 3
   },
   "file_extension": ".py",
   "mimetype": "text/x-python",
   "name": "python",
   "nbconvert_exporter": "python",
   "pygments_lexer": "ipython3",
   "version": "3.9.16"
  }
 },
 "nbformat": 4,
 "nbformat_minor": 5
}
