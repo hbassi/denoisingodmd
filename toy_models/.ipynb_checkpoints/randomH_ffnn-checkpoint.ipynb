{
 "cells": [
  {
   "cell_type": "code",
   "execution_count": 2,
   "id": "cc7789df-cd17-4f79-aac1-8859d7aaa5ec",
   "metadata": {
    "tags": []
   },
   "outputs": [],
   "source": [
    "import numpy as np\n",
    "from matplotlib import pyplot as plt\n",
    "from tqdm import trange\n",
    "import scipy\n",
    "import torch\n",
    "import torch.nn as nn\n",
    "import torch.optim as optim\n",
    "import torch.nn.init as init"
   ]
  },
  {
   "cell_type": "code",
   "execution_count": 3,
   "id": "a8f12853-4eb7-4aea-a83b-abd065a35ddc",
   "metadata": {
    "tags": []
   },
   "outputs": [
    {
     "data": {
      "text/plain": [
       "<torch._C.Generator at 0x7f998cf713d0>"
      ]
     },
     "execution_count": 3,
     "metadata": {},
     "output_type": "execute_result"
    }
   ],
   "source": [
    "np.random.seed(999)\n",
    "torch.manual_seed(999)"
   ]
  },
  {
   "cell_type": "code",
   "execution_count": 4,
   "id": "d517d96f-e8c3-415e-b314-6acffefa179d",
   "metadata": {},
   "outputs": [],
   "source": [
    "device = 'cuda'"
   ]
  },
  {
   "cell_type": "code",
   "execution_count": 5,
   "id": "c98ada50-4dbe-40b4-9414-f08e753873de",
   "metadata": {
    "tags": []
   },
   "outputs": [],
   "source": [
    "size = 9\n",
    "Hr = np.random.randn(size**2).reshape((size, size))\n",
    "Hi = np.random.randn(size**2).reshape((size, size))"
   ]
  },
  {
   "cell_type": "code",
   "execution_count": 6,
   "id": "52a2f116-dc7e-49cd-ab96-d1eb2eca0fa5",
   "metadata": {
    "tags": []
   },
   "outputs": [],
   "source": [
    "Hraw = Hr + 1j*Hi"
   ]
  },
  {
   "cell_type": "code",
   "execution_count": 7,
   "id": "0d2fd53c-f420-4601-8779-901e2c1f3adc",
   "metadata": {
    "tags": []
   },
   "outputs": [],
   "source": [
    "H = 0.5 * (Hraw + Hraw.conj().T) \n",
    "tH = torch.from_numpy(H).to(device)"
   ]
  },
  {
   "cell_type": "code",
   "execution_count": 8,
   "id": "a11f29f9-7ac1-4664-a188-272fe13283c6",
   "metadata": {
    "tags": []
   },
   "outputs": [
    {
     "data": {
      "text/plain": [
       "True"
      ]
     },
     "execution_count": 8,
     "metadata": {},
     "output_type": "execute_result"
    }
   ],
   "source": [
    "(H == H.conj().T).all()"
   ]
  },
  {
   "cell_type": "code",
   "execution_count": 9,
   "id": "ce218037-b59f-499f-9e18-5ccb01bc4361",
   "metadata": {
    "tags": []
   },
   "outputs": [],
   "source": [
    "evals, evecs = np.linalg.eigh(H)"
   ]
  },
  {
   "cell_type": "code",
   "execution_count": 10,
   "id": "75e08b1c-21cc-494f-966b-020bbe9b9d73",
   "metadata": {
    "tags": []
   },
   "outputs": [
    {
     "name": "stdout",
     "output_type": "stream",
     "text": [
      "Eigenvectors are orthogonal within the given tolerance.\n"
     ]
    }
   ],
   "source": [
    "dot_product = np.dot(evecs.T.conj(), evecs)\n",
    "identity = np.eye(evecs.shape[1])\n",
    "tolerance = 1e-10\n",
    "\n",
    "if np.allclose(dot_product, identity, atol=tolerance):\n",
    "    print(\"Eigenvectors are orthogonal within the given tolerance.\")\n",
    "else:\n",
    "    print(\"Eigenvectors are not orthogonal.\")"
   ]
  },
  {
   "cell_type": "code",
   "execution_count": 11,
   "id": "ea19be32-918d-4a9a-833d-0ee47e11e857",
   "metadata": {
    "tags": []
   },
   "outputs": [],
   "source": [
    "class FullyConnectedNet(nn.Module):\n",
    "    def __init__(self, input_size, hidden_size, output_size):\n",
    "        super(FullyConnectedNet, self).__init__()\n",
    "        \n",
    "        self.fc1 = nn.Linear(input_size, hidden_size).double()\n",
    "        self.fc2 = nn.Linear(hidden_size, hidden_size).double()\n",
    "        self.fc3 = nn.Linear(hidden_size, hidden_size).double()\n",
    "        self.fc4 = nn.Linear(hidden_size, hidden_size).double()\n",
    "        self.fc5 = nn.Linear(hidden_size, output_size).double()\n",
    "    \n",
    "        self.activation = nn.Tanh()\n",
    "    \n",
    "        self._initialize_weights()\n",
    "\n",
    "    def _initialize_weights(self):\n",
    "        init.xavier_uniform_(self.fc1.weight)\n",
    "        init.xavier_uniform_(self.fc2.weight)\n",
    "        init.xavier_uniform_(self.fc3.weight)\n",
    "        init.xavier_uniform_(self.fc4.weight)\n",
    "        init.xavier_uniform_(self.fc5.weight)\n",
    "        \n",
    "        \n",
    "        if self.fc1.bias is not None:\n",
    "            init.zeros_(self.fc1.bias)\n",
    "        if self.fc2.bias is not None:\n",
    "            init.zeros_(self.fc2.bias)\n",
    "        if self.fc3.bias is not None:\n",
    "            init.zeros_(self.fc3.bias)\n",
    "        if self.fc4.bias is not None:\n",
    "            init.zeros_(self.fc4.bias)\n",
    "        if self.fc5.bias is not None:\n",
    "            init.zeros_(self.fc5.bias)\n",
    "\n",
    "    def forward(self, x):\n",
    "        x = self.fc1(x)\n",
    "        x = self.activation(x)\n",
    "        x = self.fc2(x)\n",
    "        x = self.activation(x)\n",
    "        x = self.fc3(x)\n",
    "        x = self.activation(x)\n",
    "        x = self.fc4(x)\n",
    "        x = self.activation(x)\n",
    "        x = self.fc5(x)\n",
    "        \n",
    "        return x"
   ]
  },
  {
   "cell_type": "code",
   "execution_count": 12,
   "id": "6fb28697-1355-4ff2-8be0-f57aed6bd87d",
   "metadata": {
    "tags": []
   },
   "outputs": [],
   "source": [
    "class ResidualLoss(nn.Module):\n",
    "    def __init__(self, alpha=0.1, beta=0.1, gamma=0.1):\n",
    "        super(ResidualLoss, self).__init__()\n",
    "        self.alpha = alpha\n",
    "        self.beta = beta\n",
    "        self.gamma = gamma\n",
    "\n",
    "    def forward(self, predicted_eigval, predicted_eigvec):\n",
    "        residual = torch.linalg.norm(tH @ predicted_eigvec - predicted_eigval * predicted_eigvec)**2 / torch.linalg.norm(tH)\n",
    "        rayleigh_quotient = (predicted_eigvec.conj().T @ tH @ predicted_eigvec).real\n",
    "        norm_penalty = self.alpha * rayleigh_quotient\n",
    "        \n",
    "        unit_norm_penalty = self.beta * (torch.linalg.norm(predicted_eigvec) - 1)**2\n",
    "        eigenvalue_penalty = self.gamma * predicted_eigval\n",
    "        \n",
    "        # Total loss\n",
    "        total_loss = residual + norm_penalty + unit_norm_penalty + eigenvalue_penalty\n",
    "\n",
    "        return total_loss\n"
   ]
  },
  {
   "cell_type": "code",
   "execution_count": 13,
   "id": "9ab88aab-7016-49fd-889d-e33f589e2161",
   "metadata": {
    "tags": []
   },
   "outputs": [],
   "source": [
    "input_size = 750 + 2 * size\n",
    "hidden_size = 1024\n",
    "output_size = 1 + 2 * size\n",
    "num_epochs = 1000\n",
    "learning_rate = 0.01"
   ]
  },
  {
   "cell_type": "code",
   "execution_count": 14,
   "id": "4c030b5a-0d9f-4085-be33-9724b1095047",
   "metadata": {
    "tags": []
   },
   "outputs": [],
   "source": [
    "phi0 = (np.random.randn(size) + 1j * np.random.randn(size)) / 1"
   ]
  },
  {
   "cell_type": "code",
   "execution_count": 15,
   "id": "2b61444b-f3d8-4d6d-97b6-97edc0e28dd0",
   "metadata": {
    "tags": []
   },
   "outputs": [],
   "source": [
    "Tmax = 750\n",
    "dt = 0.1"
   ]
  },
  {
   "cell_type": "code",
   "execution_count": 16,
   "id": "60866292-0350-4bf4-9a08-5dbca44daa66",
   "metadata": {
    "tags": []
   },
   "outputs": [],
   "source": [
    "#compute observables for data s(k\\Delta t) = \\langle \\phi_0 | e^-iHk\\Delta t | \\phi_0 \\rangle\n",
    "dataS = np.zeros(Tmax, dtype=np.complex128)\n",
    "for k in range(Tmax):\n",
    "    dataS[k] = phi0.conj().T @ scipy.linalg.expm(-1j* H * k * dt) @ phi0"
   ]
  },
  {
   "cell_type": "code",
   "execution_count": 17,
   "id": "e8345f46-ccb0-47c6-bd33-5dd210ba47a0",
   "metadata": {
    "tags": []
   },
   "outputs": [
    {
     "data": {
      "text/plain": [
       "[<matplotlib.lines.Line2D at 0x7f9929a49910>]"
      ]
     },
     "execution_count": 17,
     "metadata": {},
     "output_type": "execute_result"
    },
    {
     "data": {
      "image/png": "[encoded data removed]",
      "text/plain": [
       "<Figure size 640x480 with 1 Axes>"
      ]
     },
     "metadata": {},
     "output_type": "display_data"
    }
   ],
   "source": [
    "plt.plot(dataS.real)"
   ]
  },
  {
   "cell_type": "code",
   "execution_count": 18,
   "id": "77f084ef-f677-445c-aa4f-16cd632762e6",
   "metadata": {
    "tags": []
   },
   "outputs": [],
   "source": [
    "noisydataS = dataS +  1.0 * np.random.randn(dataS.shape[0])"
   ]
  },
  {
   "cell_type": "code",
   "execution_count": 19,
   "id": "9304f93b-612b-4039-94d7-824fdf050da3",
   "metadata": {
    "tags": []
   },
   "outputs": [
    {
     "data": {
      "text/plain": [
       "[<matplotlib.lines.Line2D at 0x7f992995a940>]"
      ]
     },
     "execution_count": 19,
     "metadata": {},
     "output_type": "execute_result"
    },
    {
     "data": {
      "image/png": "[encoded data removed]",
      "text/plain": [
       "<Figure size 640x480 with 1 Axes>"
      ]
     },
     "metadata": {},
     "output_type": "display_data"
    }
   ],
   "source": [
    "plt.plot(noisydataS.real)"
   ]
  },
  {
   "cell_type": "code",
   "execution_count": 20,
   "id": "1f9514e3-c63e-4609-92db-17768ac3d54f",
   "metadata": {
    "tags": []
   },
   "outputs": [],
   "source": [
    "phi0HF = (np.random.randn(size) + 1j * np.random.randn(size)) / 1"
   ]
  },
  {
   "cell_type": "code",
   "execution_count": 20,
   "id": "87383bac-d463-49c9-bd1d-92630e5563ae",
   "metadata": {
    "tags": []
   },
   "outputs": [],
   "source": [
    "input_data = np.concatenate((noisydataS.real , phi0HF.real, phi0HF.imag))"
   ]
  },
  {
   "cell_type": "code",
   "execution_count": 21,
   "id": "0859fb33-40ee-4c0a-9064-00e1ce60cb66",
   "metadata": {
    "tags": []
   },
   "outputs": [],
   "source": [
    "input_data = input_data.reshape((1,input_data.shape[0]))"
   ]
  },
  {
   "cell_type": "code",
   "execution_count": 22,
   "id": "a7966318-dedd-4577-8822-1fe300d9a519",
   "metadata": {
    "tags": []
   },
   "outputs": [],
   "source": [
    "input_data = torch.Tensor(input_data).double().to(device)"
   ]
  },
  {
   "cell_type": "code",
   "execution_count": 23,
   "id": "5fff1406-f0bd-412f-9904-799afd008b7c",
   "metadata": {
    "tags": []
   },
   "outputs": [
    {
     "data": {
      "text/plain": [
       "torch.Size([1, 768])"
      ]
     },
     "execution_count": 23,
     "metadata": {},
     "output_type": "execute_result"
    }
   ],
   "source": [
    "input_data.shape"
   ]
  },
  {
   "cell_type": "code",
   "execution_count": 24,
   "id": "5403497c-8f86-45c7-b4cb-6996f55a6a5f",
   "metadata": {
    "tags": []
   },
   "outputs": [],
   "source": [
    "model = FullyConnectedNet(input_size, hidden_size, output_size).to(device)\n",
    "criterion = ResidualLoss(alpha=1.0, beta=5.0, gamma=0.001)\n",
    "optimizer = optim.Adam(model.parameters(), lr=learning_rate)"
   ]
  },
  {
   "cell_type": "code",
   "execution_count": 25,
   "id": "e7e483f3-23c3-4215-8415-2df3f5c33a4d",
   "metadata": {
    "tags": []
   },
   "outputs": [
    {
     "name": "stderr",
     "output_type": "stream",
     "text": [
      " 14%|█▍        | 145/1000 [00:03<00:08, 100.92it/s]"
     ]
    },
    {
     "name": "stdout",
     "output_type": "stream",
     "text": [
      "Epoch [100/1000], Loss: -76.14224129\n"
     ]
    },
    {
     "name": "stderr",
     "output_type": "stream",
     "text": [
      " 25%|██▍       | 247/1000 [00:03<00:03, 198.01it/s]"
     ]
    },
    {
     "name": "stdout",
     "output_type": "stream",
     "text": [
      "Epoch [200/1000], Loss: -76.34457906\n"
     ]
    },
    {
     "name": "stderr",
     "output_type": "stream",
     "text": [
      " 36%|███▌      | 358/1000 [00:03<00:02, 288.08it/s]"
     ]
    },
    {
     "name": "stdout",
     "output_type": "stream",
     "text": [
      "Epoch [300/1000], Loss: -76.34458468\n"
     ]
    },
    {
     "name": "stderr",
     "output_type": "stream",
     "text": [
      " 47%|████▋     | 468/1000 [00:04<00:01, 332.81it/s]"
     ]
    },
    {
     "name": "stdout",
     "output_type": "stream",
     "text": [
      "Epoch [400/1000], Loss: -76.34458468\n"
     ]
    },
    {
     "name": "stderr",
     "output_type": "stream",
     "text": [
      " 54%|█████▍    | 539/1000 [00:04<00:01, 323.73it/s]"
     ]
    },
    {
     "name": "stdout",
     "output_type": "stream",
     "text": [
      "Epoch [500/1000], Loss: -76.34458468\n"
     ]
    },
    {
     "name": "stderr",
     "output_type": "stream",
     "text": [
      " 64%|██████▍   | 644/1000 [00:04<00:01, 332.54it/s]"
     ]
    },
    {
     "name": "stdout",
     "output_type": "stream",
     "text": [
      "Epoch [600/1000], Loss: -76.34458468\n"
     ]
    },
    {
     "name": "stderr",
     "output_type": "stream",
     "text": [
      " 75%|███████▍  | 746/1000 [00:04<00:00, 332.69it/s]"
     ]
    },
    {
     "name": "stdout",
     "output_type": "stream",
     "text": [
      "Epoch [700/1000], Loss: -76.34458468\n"
     ]
    },
    {
     "name": "stderr",
     "output_type": "stream",
     "text": [
      " 85%|████████▍ | 847/1000 [00:05<00:00, 312.21it/s]"
     ]
    },
    {
     "name": "stdout",
     "output_type": "stream",
     "text": [
      "Epoch [800/1000], Loss: -76.34458468\n"
     ]
    },
    {
     "name": "stderr",
     "output_type": "stream",
     "text": [
      " 96%|█████████▌| 956/1000 [00:05<00:00, 346.62it/s]"
     ]
    },
    {
     "name": "stdout",
     "output_type": "stream",
     "text": [
      "Epoch [900/1000], Loss: -76.34458468\n"
     ]
    },
    {
     "name": "stderr",
     "output_type": "stream",
     "text": [
      "100%|██████████| 1000/1000 [00:05<00:00, 177.60it/s]"
     ]
    },
    {
     "name": "stdout",
     "output_type": "stream",
     "text": [
      "Epoch [1000/1000], Loss: -76.34458468\n",
      "Training complete\n"
     ]
    },
    {
     "name": "stderr",
     "output_type": "stream",
     "text": [
      "\n"
     ]
    }
   ],
   "source": [
    "for epoch in trange(num_epochs):\n",
    "    model.train()\n",
    "    \n",
    "    outputs = model(input_data)\n",
    "    pred_eval = outputs[:,0]\n",
    "    pred_evec_all = outputs[:,1:].T\n",
    "    complex_evec_all = torch.complex(pred_evec_all[:size], pred_evec_all[size:])\n",
    "    loss = criterion(pred_eval, complex_evec_all)\n",
    "    \n",
    "    optimizer.zero_grad()\n",
    "    loss.backward()\n",
    "    optimizer.step()\n",
    "    \n",
    "    if (epoch+1) % 100 == 0:\n",
    "        print(f'Epoch [{epoch+1}/{num_epochs}], Loss: {loss.item():.8f}')\n",
    "\n",
    "print(\"Training complete\")"
   ]
  },
  {
   "cell_type": "code",
   "execution_count": 26,
   "id": "a39ee75b-f613-4fa7-800c-0a1e5fd844cf",
   "metadata": {
    "tags": []
   },
   "outputs": [
    {
     "data": {
      "text/plain": [
       "FullyConnectedNet(\n",
       "  (fc1): Linear(in_features=768, out_features=1024, bias=True)\n",
       "  (fc2): Linear(in_features=1024, out_features=1024, bias=True)\n",
       "  (fc3): Linear(in_features=1024, out_features=1024, bias=True)\n",
       "  (fc4): Linear(in_features=1024, out_features=1024, bias=True)\n",
       "  (fc5): Linear(in_features=1024, out_features=19, bias=True)\n",
       "  (activation): Tanh()\n",
       ")"
      ]
     },
     "execution_count": 26,
     "metadata": {},
     "output_type": "execute_result"
    }
   ],
   "source": [
    "model.eval()"
   ]
  },
  {
   "cell_type": "code",
   "execution_count": 27,
   "id": "ba73ce7b-3b85-482e-ab98-8d0b5a4a25b8",
   "metadata": {
    "tags": []
   },
   "outputs": [],
   "source": [
    "testdata = torch.Tensor(np.concatenate(((dataS + 10.0 * np.random.randn(dataS.shape[0])).real, phi0HF.real, phi0HF.imag))).reshape((1, Tmax + 2*phi0HF.shape[0])).double().to(device)"
   ]
  },
  {
   "cell_type": "code",
   "execution_count": 28,
   "id": "15b78afa-ad8f-4915-9a2f-94390e32c171",
   "metadata": {
    "tags": []
   },
   "outputs": [],
   "source": [
    "cutoff = 350\n",
    "chunk_testdata = testdata[:, :cutoff]\n",
    "pad = -torch.ones(testdata.shape[1] - cutoff).reshape((1, testdata.shape[1] - cutoff)).to(device)"
   ]
  },
  {
   "cell_type": "code",
   "execution_count": 29,
   "id": "a39d68e5-53e4-4dbd-bb18-4d64eb395fe7",
   "metadata": {
    "tags": []
   },
   "outputs": [],
   "source": [
    "padded_testdata = torch.concat((chunk_testdata, pad),axis=1)"
   ]
  },
  {
   "cell_type": "code",
   "execution_count": 30,
   "id": "d424071d-0f8f-4626-958b-83f61c79daa5",
   "metadata": {
    "tags": []
   },
   "outputs": [],
   "source": [
    "with torch.no_grad():  \n",
    "    #prediction = model(-torch.ones(testdata.shape[1]).reshape((1,testdata.shape[1])).double().to(device))\n",
    "    prediction = model(testdata)"
   ]
  },
  {
   "cell_type": "code",
   "execution_count": 31,
   "id": "8f667b60-a05a-4578-aa1e-4e02df517727",
   "metadata": {
    "tags": []
   },
   "outputs": [],
   "source": [
    "pred_eval = prediction[0,0].item()\n",
    "pred_evec = torch.complex(prediction[0, 1:size + 1], prediction[0, size+1:])"
   ]
  },
  {
   "cell_type": "code",
   "execution_count": 32,
   "id": "89da3191-8a50-4b59-9ca9-a78cbc4f5866",
   "metadata": {
    "tags": []
   },
   "outputs": [
    {
     "data": {
      "text/plain": [
       "-4.692665183002175"
      ]
     },
     "execution_count": 32,
     "metadata": {},
     "output_type": "execute_result"
    }
   ],
   "source": [
    "pred_eval"
   ]
  },
  {
   "cell_type": "code",
   "execution_count": 33,
   "id": "ac23f4d3-8986-4a91-bf72-66eccc23f59b",
   "metadata": {
    "tags": []
   },
   "outputs": [
    {
     "data": {
      "text/plain": [
       "array([-4.69264774, -3.38851881, -2.1456738 , -0.84132592,  0.06337442,\n",
       "        1.44373864,  2.1482215 ,  3.76186906,  5.06082822])"
      ]
     },
     "execution_count": 33,
     "metadata": {},
     "output_type": "execute_result"
    }
   ],
   "source": [
    "evals"
   ]
  },
  {
   "cell_type": "code",
   "execution_count": 34,
   "id": "c468f81a-4ed4-4c9e-b31f-5344a8dc5382",
   "metadata": {
    "tags": []
   },
   "outputs": [],
   "source": [
    "eig_val_idx_errs = []\n",
    "for i in range(evals.shape[0]):\n",
    "    eig_val_idx_errs.append(abs(evals[i] - pred_eval))"
   ]
  },
  {
   "cell_type": "code",
   "execution_count": 35,
   "id": "6c5a5e8b-1cbb-4e48-b88f-e07ee62bec89",
   "metadata": {
    "tags": []
   },
   "outputs": [
    {
     "data": {
      "image/png": "[encoded data removed]",
      "text/plain": [
       "<Figure size 640x480 with 1 Axes>"
      ]
     },
     "metadata": {},
     "output_type": "display_data"
    }
   ],
   "source": [
    "plt.semilogy(range(0, len(evals)), eig_val_idx_errs)\n",
    "plt.xlabel('Eigenvalue index number')\n",
    "plt.ylabel('MAE')\n",
    "plt.title('FFNN Eigenvalue prediction MAE');\n",
    "plt.tight_layout()"
   ]
  },
  {
   "cell_type": "code",
   "execution_count": 23,
   "id": "dce97d6f-1c2b-4dfe-ab59-708b44bbc781",
   "metadata": {
    "tags": []
   },
   "outputs": [
    {
     "data": {
      "image/png": "[encoded data removed]",
      "text/plain": [
       "<Figure size 640x480 with 1 Axes>"
      ]
     },
     "metadata": {},
     "output_type": "display_data"
    }
   ],
   "source": [
    "closest_index = np.argmin(np.abs(evals - pred_eval))\n",
    "plt.scatter(range(len(evals)), evals, label='Ground truth eigenvalues')\n",
    "plt.scatter([closest_index], [pred_eval], color='red', label='Predicted eigenvalue')\n",
    "plt.xlabel('Eigenvalue index')\n",
    "plt.ylabel('eV')\n",
    "plt.title('Spectrum of Hamiltonian')\n",
    "plt.legend()\n",
    "plt.tight_layout()"
   ]
  },
  {
   "cell_type": "code",
   "execution_count": 37,
   "id": "6a7bd732-c144-4f29-8934-b9bb9a7558cf",
   "metadata": {
    "tags": []
   },
   "outputs": [
    {
     "data": {
      "text/plain": [
       "1.7447395554981426e-05"
      ]
     },
     "execution_count": 37,
     "metadata": {},
     "output_type": "execute_result"
    }
   ],
   "source": [
    "abs(pred_eval - evals[closest_index])"
   ]
  },
  {
   "cell_type": "code",
   "execution_count": 38,
   "id": "cb4f681a-c236-47d2-9c9f-4f5b6626bbc0",
   "metadata": {
    "tags": []
   },
   "outputs": [
    {
     "data": {
      "text/plain": [
       "tensor(3.0735e-05, device='cuda:0', dtype=torch.float64)"
      ]
     },
     "execution_count": 38,
     "metadata": {},
     "output_type": "execute_result"
    }
   ],
   "source": [
    "torch.linalg.norm(tH @ pred_evec - pred_eval * pred_evec)/torch.linalg.norm(tH)"
   ]
  },
  {
   "cell_type": "code",
   "execution_count": 39,
   "id": "92ebe9e7-b938-4779-8bd4-dd5c7225a93c",
   "metadata": {
    "tags": []
   },
   "outputs": [],
   "source": [
    "true_evec = evecs[:, closest_index]\n",
    "true_evec = torch.from_numpy(true_evec).to(pred_evec.device)"
   ]
  },
  {
   "cell_type": "code",
   "execution_count": 40,
   "id": "f7cbae72-5e8b-4449-a843-534e943876dd",
   "metadata": {
    "tags": []
   },
   "outputs": [],
   "source": [
    "pred_evec_norm = pred_evec / torch.linalg.norm(pred_evec)"
   ]
  },
  {
   "cell_type": "code",
   "execution_count": 41,
   "id": "63e935fb-117b-4ba1-8195-1fb379d4ac0e",
   "metadata": {
    "tags": []
   },
   "outputs": [
    {
     "name": "stdout",
     "output_type": "stream",
     "text": [
      "Cosine similarity between predicted and true eigenvector: 0.9999999999999998\n",
      "Angle between predicted and true eigenvector (radians): 2.1073424255447017e-08\n"
     ]
    }
   ],
   "source": [
    "cosine_similarity = torch.abs(torch.dot(pred_evec_norm.conj(), true_evec))\n",
    "print(f'Cosine similarity between predicted and true eigenvector: {cosine_similarity.item()}')\n",
    "angle = torch.acos(cosine_similarity).item()\n",
    "print(f'Angle between predicted and true eigenvector (radians): {angle}')"
   ]
  },
  {
   "cell_type": "code",
   "execution_count": 42,
   "id": "8e056389-ae11-4ddb-8e87-7ff32e868aae",
   "metadata": {},
   "outputs": [
    {
     "data": {
      "text/plain": [
       "(tensor([ 0.3797+0.0000j,  0.2249+0.2123j, -0.0502-0.1288j,  0.0222+0.2586j,\n",
       "          0.1224-0.0526j,  0.1587+0.1568j, -0.3367-0.0452j,  0.3598+0.4421j,\n",
       "         -0.2638-0.3104j], device='cuda:0', dtype=torch.complex128),\n",
       " tensor([-0.0958-0.3674j,  0.1487-0.2712j, -0.1119+0.0810j,  0.2446-0.0868j,\n",
       "         -0.0817-0.1052j,  0.1117-0.1931j,  0.0412+0.3372j,  0.3370-0.4597j,\n",
       "         -0.2338+0.3336j], device='cuda:0', dtype=torch.complex128))"
      ]
     },
     "execution_count": 42,
     "metadata": {},
     "output_type": "execute_result"
    }
   ],
   "source": [
    "true_evec, pred_evec_norm"
   ]
  },
  {
   "cell_type": "code",
   "execution_count": 43,
   "id": "9f5494af-ccf0-43d3-8307-8a423cb1b75b",
   "metadata": {
    "tags": []
   },
   "outputs": [
    {
     "data": {
      "text/plain": [
       "tensor(0.0003, device='cuda:0', dtype=torch.float64)"
      ]
     },
     "execution_count": 43,
     "metadata": {},
     "output_type": "execute_result"
    }
   ],
   "source": [
    "torch.linalg.norm(tH @ pred_evec - pred_eval * pred_evec)"
   ]
  },
  {
   "cell_type": "code",
   "execution_count": 44,
   "id": "e700ca8f-3cce-4805-a7fe-558accc36ecc",
   "metadata": {
    "tags": []
   },
   "outputs": [
    {
     "data": {
      "text/plain": [
       "tensor(1.4823e-15, device='cuda:0', dtype=torch.float64)"
      ]
     },
     "execution_count": 44,
     "metadata": {},
     "output_type": "execute_result"
    }
   ],
   "source": [
    "torch.linalg.norm(tH @ true_evec - evals[0] * true_evec)"
   ]
  },
  {
   "cell_type": "code",
   "execution_count": null,
   "id": "0002e936-21b2-4bec-b6c9-3a4a8d960ed5",
   "metadata": {
    "tags": []
   },
   "outputs": [],
   "source": []
  },
  {
   "cell_type": "code",
   "execution_count": null,
   "id": "37495a1f-923b-497c-b97c-296e9ffa9af0",
   "metadata": {},
   "outputs": [],
   "source": []
  }
 ],
 "metadata": {
  "kernelspec": {
   "display_name": "pytorch-2.0.1",
   "language": "python",
   "name": "pytorch-2.0.1"
  },
  "language_info": {
   "codemirror_mode": {
    "name": "ipython",
    "version": 3
   },
   "file_extension": ".py",
   "mimetype": "text/x-python",
   "name": "python",
   "nbconvert_exporter": "python",
   "pygments_lexer": "ipython3",
   "version": "3.9.16"
  }
 },
 "nbformat": 4,
 "nbformat_minor": 5
}
