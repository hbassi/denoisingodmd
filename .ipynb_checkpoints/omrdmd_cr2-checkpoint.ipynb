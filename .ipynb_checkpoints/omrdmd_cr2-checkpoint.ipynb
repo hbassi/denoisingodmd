{
 "cells": [
  {
   "cell_type": "code",
   "execution_count": 1,
   "id": "9be2ed49-7290-41ac-a18c-4783d70996a1",
   "metadata": {
    "tags": []
   },
   "outputs": [],
   "source": [
    "import numpy as np\n",
    "from scipy.linalg import svd, hankel, eig\n",
    "from matplotlib import pyplot as plt\n",
    "import scipy\n",
    "from tqdm import trange"
   ]
  },
  {
   "cell_type": "code",
   "execution_count": 2,
   "id": "41aa7213-dffa-4971-b547-96e80e7f7286",
   "metadata": {},
   "outputs": [],
   "source": [
    "def dmd(data, dt, tol=1e-6):\n",
    "    k = len(data)\n",
    "    X = make_hankel(data, int(np.floor(k / 3) + 1), int(np.ceil(2 / 3 * k)))\n",
    "\n",
    "    X1 = X[:, :-1]\n",
    "    X2 = X[:, 1:]\n",
    "\n",
    "    U, S, Vh = svd(X1, full_matrices=False)\n",
    "    V = Vh.conj().T\n",
    "\n",
    "    r = np.sum(S > tol * S[0])\n",
    "    U = U[:, :r]\n",
    "    S = np.diag(S[:r])\n",
    "    V = V[:, :r]\n",
    "\n",
    "    Atilde = U.conj().T @ X2 @ V @ np.linalg.inv(S)\n",
    "    mu, W = eig(Atilde)\n",
    "    omega = np.log(mu) / dt\n",
    "\n",
    "    Phi = X2 @ V @ np.linalg.inv(S) @ W\n",
    "\n",
    "    return omega, Phi, mu, X"
   ]
  },
  {
   "cell_type": "code",
   "execution_count": 3,
   "id": "22e3fe0d-37b7-437d-82ef-ffd52f3b77cc",
   "metadata": {
    "tags": []
   },
   "outputs": [],
   "source": [
    "def mrdmd(data, dt, tol=1e-6, max_levels=3, rho=1.0):\n",
    "    def compute_power_level(Phi, X):\n",
    "    \n",
    "        b = np.linalg.lstsq(Phi, X[:, 0], rcond=None)[0]\n",
    "        return 2 / np.sqrt( X.shape[0]) * np.abs(b)\n",
    "\n",
    "    def recursive_mrdmd(data, dt, tol, level, max_levels, result, rho):\n",
    "        if level > max_levels:\n",
    "            return\n",
    "        omega, Phi, mu, X = dmd(data, dt, tol)\n",
    "        slow_indices = np.where(np.abs(mu) < rho)[0]\n",
    "       \n",
    "        slow_omega = omega[slow_indices]\n",
    "        slow_modes = Phi[:, slow_indices]\n",
    "\n",
    "        power_levels = compute_power_level(slow_modes, X)\n",
    "        \n",
    "        result[level].append((slow_omega, slow_modes, power_levels))\n",
    "        \n",
    "        half = len(data) // 2\n",
    "        if half > 1:\n",
    "            recursive_mrdmd(data[:half], dt, tol, level + 1, max_levels, result, rho)\n",
    "            recursive_mrdmd(data[half:], dt, tol, level + 1, max_levels, result, rho)\n",
    "    \n",
    "    result = {level: [] for level in range(1, max_levels + 1)}\n",
    "    recursive_mrdmd(data, dt, tol, 1, max_levels, result, rho)\n",
    "    \n",
    "    return result"
   ]
  },
  {
   "cell_type": "code",
   "execution_count": 4,
   "id": "8458c86f-4867-4dde-811b-20ec622fa7b2",
   "metadata": {
    "tags": []
   },
   "outputs": [],
   "source": [
    "def generate_samples(E, psi0, dt=1, nb=100):\n",
    "    H = np.zeros(nb, dtype=np.complex128)\n",
    "    S = np.zeros(nb, dtype=np.complex128)\n",
    "    \n",
    "    for j in trange(nb):\n",
    "        H[j] = np.sum(E * np.abs(psi0)**2 * np.exp(-1j * E * j * dt))\n",
    "        S[j] = np.sum(np.abs(psi0)**2 * np.exp(-1j * E * j * dt))\n",
    "    \n",
    "    return H, S"
   ]
  },
  {
   "cell_type": "code",
   "execution_count": 5,
   "id": "19d870b9-369b-4921-b5e3-5fda41be1a15",
   "metadata": {
    "tags": []
   },
   "outputs": [],
   "source": [
    "def lam2lamt(lam, lammin, lammax):\n",
    "    lamt = np.pi / 2 * (lam - (lammin + lammax) / 2) / (lammax - lammin)\n",
    "    return lamt"
   ]
  },
  {
   "cell_type": "code",
   "execution_count": 6,
   "id": "6369df85-4d04-4572-9a3d-1550b98df298",
   "metadata": {
    "tags": []
   },
   "outputs": [],
   "source": [
    "def lamt2lam(lamt, lammin, lammax):\n",
    "    lam = lamt * 2 / np.pi * (lammax - lammin) + (lammin + lammax) / 2\n",
    "    return lam"
   ]
  },
  {
   "cell_type": "code",
   "execution_count": 7,
   "id": "dd02e56a-c8b3-44c5-978d-8192815763e5",
   "metadata": {
    "tags": []
   },
   "outputs": [],
   "source": [
    "def make_hankel(data, m, n):\n",
    "    return hankel(data[:m], data[m-1:m+n-1])"
   ]
  },
  {
   "cell_type": "code",
   "execution_count": 8,
   "id": "4a8e4f33-bb29-400b-b03b-e9fa1a3d1822",
   "metadata": {
    "tags": []
   },
   "outputs": [],
   "source": [
    "def generate_phi(overlap, N):\n",
    "    phi = np.zeros((N,1))\n",
    "    phi[0] = np.sqrt(overlap)\n",
    "    phi[1:] = np.sqrt((1 - phi[0]**2) / (N - 1))\n",
    "    return phi"
   ]
  },
  {
   "cell_type": "code",
   "execution_count": 9,
   "id": "9b349136-a256-4060-b584-c8036c73342b",
   "metadata": {
    "tags": []
   },
   "outputs": [],
   "source": [
    "def run_compare(dataH, dataS, dt, fun=dmd, tol=[1e-1, 1e-2, 1e-3], Tmax=500, step=1, levels=3):\n",
    "    t = np.arange(levels ** 2, Tmax + 1, step)\n",
    "    \n",
    "    if fun == dmd:\n",
    "        lam = np.inf * np.ones((len(t), len(tol)))\n",
    "    elif fun == mrdmd:\n",
    "        lam = np.inf * np.ones((len(t), len(tol), levels))\n",
    "    \n",
    "    level_tracker = []\n",
    "    \n",
    "    for i in trange(len(t)):\n",
    "        for j in range(len(tol)):\n",
    "            \n",
    "            if fun == dmd:\n",
    "                omega = fun(dataS[:t[i]], dt, tol[j])\n",
    "                lam[i, j] = -np.max(np.imag(omega))\n",
    "                \n",
    "            elif fun == mrdmd:\n",
    "                all_omegas = fun(dataS[:t[i]], dt, tol[j],max_levels=levels)\n",
    "                powers = {}\n",
    "                for k in list(all_omegas.keys()):\n",
    "                    level_omegas = all_omegas[k]\n",
    "                    all_imag_parts = []\n",
    "                    \n",
    "                    powers[k] = {}\n",
    "                    for b in range(len(level_omegas)):\n",
    "                        #(slow_omega, slow_modes, power_levels)\n",
    "                        window_omegas = level_omegas[b][0]\n",
    "                        window_powers = level_omegas[b][2]\n",
    "                        powers[k][b] = window_powers\n",
    "           \n",
    "                        imag_parts = [np.imag(sub_array) for sub_array in window_omegas]\n",
    "                        if imag_parts:\n",
    "                            for n in range(len(imag_parts)):\n",
    "                                all_imag_parts.append(imag_parts[n])\n",
    "                    if all_imag_parts:\n",
    "                        lam[i, j, k - 1] = -np.max(np.array(all_imag_parts).flatten())\n",
    "                    else:\n",
    "                        lam[i, j, k - 1] = 0\n",
    "                level_tracker.append(powers)\n",
    "                \n",
    "    return lam, t, level_tracker"
   ]
  },
  {
   "cell_type": "code",
   "execution_count": 10,
   "id": "59ef835d-23d1-4bad-b859-95feada6d7c6",
   "metadata": {
    "tags": []
   },
   "outputs": [],
   "source": [
    "seed = 100\n",
    "np.random.seed(seed)"
   ]
  },
  {
   "cell_type": "code",
   "execution_count": 11,
   "id": "b2ce09f3-beb3-4214-932b-7e4aa3bfef1e",
   "metadata": {
    "tags": []
   },
   "outputs": [],
   "source": [
    "data_cr2 = scipy.io.loadmat('./data/Cr2_4000.mat')"
   ]
  },
  {
   "cell_type": "code",
   "execution_count": 12,
   "id": "d0006361-be02-41d0-bfe2-be1f1eba3c6c",
   "metadata": {
    "tags": []
   },
   "outputs": [],
   "source": [
    "psiHF = data_cr2['psiHF']\n",
    "E = data_cr2['E']"
   ]
  },
  {
   "cell_type": "code",
   "execution_count": 13,
   "id": "ddddd56e-c5b5-45b0-8214-9c0c566189ce",
   "metadata": {
    "tags": []
   },
   "outputs": [],
   "source": [
    "molecule = 'Cr2'\n",
    "noise = 0.00\n",
    "overlap = 0.0# 0: HF\n",
    "fun = mrdmd\n",
    "tol = 0.01\n",
    "Tmax = 750\n",
    "step = 1\n",
    "dt = 3\n",
    "levels = 4"
   ]
  },
  {
   "cell_type": "code",
   "execution_count": 14,
   "id": "bcfb7377-0e90-49d6-8bba-8113d32357ed",
   "metadata": {
    "tags": []
   },
   "outputs": [],
   "source": [
    "Et = lam2lamt(E,E[0],E[-1])"
   ]
  },
  {
   "cell_type": "code",
   "execution_count": 15,
   "id": "bafa6266-804e-474f-8103-ed39c857531e",
   "metadata": {
    "tags": []
   },
   "outputs": [
    {
     "name": "stderr",
     "output_type": "stream",
     "text": [
      "100%|██████████| 750/750 [00:00<00:00, 2833.38it/s]\n"
     ]
    }
   ],
   "source": [
    "if overlap == 0:\n",
    "    dataH,dataS = generate_samples(Et,psiHF,dt,Tmax)\n",
    "else:\n",
    "    phi = generate_phi(overlap,len(Et));\n",
    "    print('generated phi')\n",
    "    dataH,dataS = generate_samples(Et,phi,dt,Tmax);"
   ]
  },
  {
   "cell_type": "code",
   "execution_count": 16,
   "id": "957cb4dd-2f8d-4442-8774-d1504d18b6ed",
   "metadata": {
    "tags": []
   },
   "outputs": [
    {
     "data": {
      "text/plain": [
       "[<matplotlib.lines.Line2D at 0x7fbcec587f10>]"
      ]
     },
     "execution_count": 16,
     "metadata": {},
     "output_type": "execute_result"
    },
    {
     "data": {
      "image/png": "[encoded data removed]",
      "text/plain": [
       "<Figure size 640x480 with 1 Axes>"
      ]
     },
     "metadata": {},
     "output_type": "display_data"
    }
   ],
   "source": [
    "plt.plot(dataS.real)\n",
    "#plt.plot(dataS.imag)"
   ]
  },
  {
   "cell_type": "code",
   "execution_count": 17,
   "id": "172a764f-ea75-418a-9f69-7ea2d6905ed0",
   "metadata": {
    "tags": []
   },
   "outputs": [],
   "source": [
    "dataH = (dataH + noise * np.random.randn(Tmax) + 1j * noise * np.random.randn(Tmax)).real\n",
    "dataS = (dataS + noise * np.random.randn(Tmax) + 1j * noise * np.random.randn(Tmax)).real"
   ]
  },
  {
   "cell_type": "code",
   "execution_count": 18,
   "id": "ad50cae6-5971-405e-a8e0-d1258a952cf7",
   "metadata": {
    "tags": []
   },
   "outputs": [
    {
     "data": {
      "text/plain": [
       "[<matplotlib.lines.Line2D at 0x7fbcec383510>]"
      ]
     },
     "execution_count": 18,
     "metadata": {},
     "output_type": "execute_result"
    },
    {
     "data": {
      "image/png": "[encoded data removed]",
      "text/plain": [
       "<Figure size 640x480 with 1 Axes>"
      ]
     },
     "metadata": {},
     "output_type": "display_data"
    }
   ],
   "source": [
    "plt.plot(dataS.real)\n",
    "#plt.plot(dataS.imag)"
   ]
  },
  {
   "cell_type": "code",
   "execution_count": 19,
   "id": "cebd45a6-db03-4d95-bcf2-b944b5cbac55",
   "metadata": {},
   "outputs": [
    {
     "name": "stderr",
     "output_type": "stream",
     "text": [
      "100%|██████████| 735/735 [00:14<00:00, 49.99it/s] \n"
     ]
    }
   ],
   "source": [
    "lamt, t, powers = run_compare(dataH,dataS,dt,fun,[tol],Tmax,step,levels)"
   ]
  },
  {
   "cell_type": "code",
   "execution_count": 20,
   "id": "6d994c8f-d135-4edb-8dcc-059d70171bc4",
   "metadata": {
    "tags": []
   },
   "outputs": [],
   "source": [
    "lam = lamt2lam(lamt,E[0],E[-1])"
   ]
  },
  {
   "cell_type": "code",
   "execution_count": 21,
   "id": "b264329d-3c76-449d-b49a-aa87a1270f69",
   "metadata": {
    "tags": []
   },
   "outputs": [
    {
     "data": {
      "text/plain": [
       "array([[[-171.39659956, -171.39659956, -170.67374672, -171.39659956]],\n",
       "\n",
       "       [[-170.31067739, -171.39659956, -170.67374672, -171.39659956]],\n",
       "\n",
       "       [[-170.14306594, -171.39659956, -170.72049631, -171.39659956]],\n",
       "\n",
       "       ...,\n",
       "\n",
       "       [[-170.29778763, -170.29779308, -171.39659956, -170.29803215]],\n",
       "\n",
       "       [[-170.29778759, -170.29779308, -171.39659956, -170.29803215]],\n",
       "\n",
       "       [[-170.2977871 , -170.29779285, -171.39659956, -170.29786139]]])"
      ]
     },
     "execution_count": 21,
     "metadata": {},
     "output_type": "execute_result"
    }
   ],
   "source": [
    "lam"
   ]
  },
  {
   "cell_type": "code",
   "execution_count": null,
   "id": "dcef6fb7-72ee-4487-8e44-578dec79f688",
   "metadata": {
    "tags": []
   },
   "outputs": [
    {
     "name": "stderr",
     "output_type": "stream",
     "text": [
      " 82%|████████▏ | 605/735 [08:47<03:16,  1.51s/it]"
     ]
    }
   ],
   "source": [
    "def create_mrDMD_grid_with_heatmap(data, ind, levels=4):\n",
    "    fig, ax = plt.subplots(figsize=(10, 6))\n",
    "    \n",
    "    y_start = 0\n",
    "    y_height = 1\n",
    "    x_start = 0\n",
    "    x_width = 1\n",
    "\n",
    "    max_val = 2  \n",
    "    \n",
    "    for level in range(levels):\n",
    "        num_chunks = 2 ** level\n",
    "        chunk_width = x_width / num_chunks\n",
    "        chunk_height = y_height / levels\n",
    "        \n",
    "        for chunk in range(num_chunks):\n",
    "            x = x_start + chunk * chunk_width\n",
    "            y = y_start + (levels - level - 1) * chunk_height\n",
    "            \n",
    "            if chunk in data[level + 1]:\n",
    "                value = data[level + 1][chunk]\n",
    "                power_level = np.max(value) if len(value) > 0 else 0\n",
    "            else:\n",
    "                power_level = 0\n",
    "\n",
    "            color = plt.cm.viridis(power_level / max_val) if max_val != 0 else 'white'\n",
    "            \n",
    "            ax.add_patch(plt.Rectangle((x, y), chunk_width, chunk_height, facecolor=color, edgecolor='black'))\n",
    "            ax.text(x + chunk_width / 2, y + chunk_height / 2, f'{power_level:.2f}', ha='center', va='center', color='white' if power_level / max_val > 0.5 else 'black')\n",
    "\n",
    "    ax.set_xlim(x_start, x_start + x_width)\n",
    "    ax.set_ylim(y_start, y_start + y_height)\n",
    "    ax.set_xlabel('time (t)')\n",
    "    ax.set_yticks([])\n",
    "\n",
    "\n",
    "    xticks = np.linspace(x_start, x_start + x_width, t[ind])\n",
    "    ax.set_xticks(xticks)\n",
    "    ax.set_xticklabels([str(i) for i in range(1, t[ind] + 1)])\n",
    "    plt.gca().invert_yaxis() \n",
    "\n",
    "    sm = plt.cm.ScalarMappable(cmap='viridis', norm=plt.Normalize(vmin=0, vmax=max_val))\n",
    "    sm.set_array([])\n",
    "    cbar = plt.colorbar(sm, ax=ax)\n",
    "    cbar.set_label('Power Level')\n",
    "    plt.title('t = '+str(t[ind]))\n",
    "    plt.savefig('./figures/mrodmd/gifmaker/delta=0.01/heatmap_t='+str(t[ind])+'.png')\n",
    "    #plt.show()\n",
    "    plt.close()\n",
    "\n",
    "for i in trange(len(t)):\n",
    "    data = powers[i] \n",
    "    create_mrDMD_grid_with_heatmap(data, i)\n"
   ]
  },
  {
   "cell_type": "code",
   "execution_count": null,
   "id": "5a355177-0a5f-49fa-8fb4-4681e7fd8677",
   "metadata": {
    "tags": []
   },
   "outputs": [],
   "source": [
    "def plot_compare(t, lam, tol, E, mytitle='', xlimits=None, ylimits=None, levels=0):\n",
    "    plt.figure()\n",
    "    marker = '*ods'\n",
    "    lgnd = []\n",
    "\n",
    "    for i in range(len(tol)):\n",
    "        mark = marker[i % len(marker)]\n",
    "        if fun == mrdmd:\n",
    "            for j in range(levels):\n",
    "                plt.semilogy(t, np.abs(lam[:,i, j] - E[0]), mark, label=f'MR level = {j+1}')\n",
    "        else:\n",
    "            plt.semilogy(t, np.abs(lam[:, i] - E[0]), mark, label=f'tol= {tol[i]}')\n",
    "\n",
    "    plt.plot([0, t[-1]], [1e-3, 1e-3], ':k')\n",
    "    plt.legend()\n",
    "    plt.xlabel('# timesteps')\n",
    "    plt.ylabel('absolute error')\n",
    "    if mytitle:\n",
    "        plt.title(mytitle)\n",
    "    if xlimits:\n",
    "        plt.xlim(xlimits)\n",
    "    if ylimits:\n",
    "        plt.ylim(ylimits)\n",
    "    #plt.savefig('./figures/mrodmd/cr2_noise=' + str(noise)+ '_tol=' + str(tol[0])+ '_overlap='+str(overlap)+'_dt=' +str(dt)+'.pdf')\n",
    "    plt.show()"
   ]
  },
  {
   "cell_type": "code",
   "execution_count": null,
   "id": "b2edb9ad-b71c-4633-9570-d2f2ff378c35",
   "metadata": {
    "tags": []
   },
   "outputs": [],
   "source": [
    "mytitle = 'mrODMD Cr2'\n",
    "plot_compare(t,lam,[tol],E,mytitle,[0,Tmax],[1e-6,1],levels)"
   ]
  },
  {
   "cell_type": "code",
   "execution_count": null,
   "id": "6dd82c31-35ef-4196-ae16-4ef7d17697bf",
   "metadata": {},
   "outputs": [],
   "source": [
    "# plt.figure()\n",
    "# plt.plot([t[300], 750], [abs(E[0]), abs(E[0])], ':k', label=r'reference $\\lambda_0$') \n",
    "# for i in range(lam.shape[2]):\n",
    "#     level = lam[300:,0,i]\n",
    "#     plt.scatter(t[300:], abs(level), marker='*', label='MR Level '+str(i+1))\n",
    "# #plt.ylim([abs(E[0])-1e-2,abs(E[0])+1e-1])\n",
    "# plt.legend()\n",
    "# plt.yscale('log')\n",
    "# plt.xscale('log')\n",
    "# plt.xlabel('t')\n",
    "# plt.ylabel('eV')\n",
    "# plt.title('mrODMD Cr2 Eigenvalue Comparison')\n",
    "# plt.tight_layout()"
   ]
  },
  {
   "cell_type": "code",
   "execution_count": null,
   "id": "5a2684ec-9426-4899-b0b0-10a31d6b0aae",
   "metadata": {
    "tags": []
   },
   "outputs": [],
   "source": [
    "# gaps = []\n",
    "# for i in range(1, lam.shape[2]):\n",
    "#     previous_level = lam[300:,0,i-1]\n",
    "#     current_level = lam[300:,0,i]\n",
    "#     abs_previous_level = abs(previous_level)\n",
    "#     abs_current_level = abs(current_level)\n",
    "#     gap = abs_current_level - abs_previous_level\n",
    "#     gaps.append(gap)\n",
    "\n",
    "# plt.figure()\n",
    "# for i, gap in enumerate(gaps):\n",
    "#     plt.semilogy(t[300:], gap, label=f'Gap between Level {i+1} and {i+2}')\n",
    "\n",
    "# plt.xlabel('t')\n",
    "# plt.ylabel('Gap (eV)')\n",
    "# plt.title('Gaps between MR Levels')\n",
    "# plt.legend()\n",
    "# plt.tight_layout()"
   ]
  },
  {
   "cell_type": "code",
   "execution_count": null,
   "id": "3dc27614-429d-4902-a418-a6eb4911534d",
   "metadata": {},
   "outputs": [],
   "source": [
    "powers"
   ]
  },
  {
   "cell_type": "code",
   "execution_count": null,
   "id": "741e6726-f842-4997-9719-55967c22d1a0",
   "metadata": {},
   "outputs": [],
   "source": []
  }
 ],
 "metadata": {
  "kernelspec": {
   "display_name": "NERSC Python",
   "language": "python",
   "name": "python3"
  },
  "language_info": {
   "codemirror_mode": {
    "name": "ipython",
    "version": 3
   },
   "file_extension": ".py",
   "mimetype": "text/x-python",
   "name": "python",
   "nbconvert_exporter": "python",
   "pygments_lexer": "ipython3",
   "version": "3.11.7"
  }
 },
 "nbformat": 4,
 "nbformat_minor": 5
}
