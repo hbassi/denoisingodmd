{
 "cells": [
  {
   "cell_type": "code",
   "execution_count": 1,
   "id": "9be2ed49-7290-41ac-a18c-4783d70996a1",
   "metadata": {
    "tags": []
   },
   "outputs": [],
   "source": [
    "import numpy as np\n",
    "from scipy.linalg import svd, hankel, eig\n",
    "from matplotlib import pyplot as plt\n",
    "import scipy\n",
    "from tqdm import trange\n",
    "import torch\n",
    "import torch.nn as nn\n",
    "import torch.optim as optim\n",
    "import torch.nn.init as init\n",
    "from torch.optim.lr_scheduler import CosineAnnealingLR"
   ]
  },
  {
   "cell_type": "code",
   "execution_count": 2,
   "id": "7813b103-cd7b-46f9-abf7-75a6b7b140e4",
   "metadata": {
    "tags": []
   },
   "outputs": [
    {
     "data": {
      "text/plain": [
       "<torch._C.Generator at 0x7fad0ebc7df0>"
      ]
     },
     "execution_count": 2,
     "metadata": {},
     "output_type": "execute_result"
    }
   ],
   "source": [
    "torch.manual_seed(999)"
   ]
  },
  {
   "cell_type": "code",
   "execution_count": 3,
   "id": "41aa7213-dffa-4971-b547-96e80e7f7286",
   "metadata": {},
   "outputs": [],
   "source": [
    "class FullyConnectedNet(nn.Module):\n",
    "    def __init__(self, input_size, hidden_size, output_size):\n",
    "        super(FullyConnectedNet, self).__init__()\n",
    "        \n",
    "        self.fc1 = nn.Linear(input_size, hidden_size).double()\n",
    "        self.fc2 = nn.Linear(hidden_size, hidden_size).double()\n",
    "        self.fc3 = nn.Linear(hidden_size, hidden_size).double()\n",
    "        self.fc4 = nn.Linear(hidden_size, hidden_size).double()\n",
    "        self.fc5 = nn.Linear(hidden_size, output_size).double()\n",
    "    \n",
    "        self.activation = nn.Tanh()\n",
    "    \n",
    "        self._initialize_weights()\n",
    "\n",
    "    def _initialize_weights(self):\n",
    "        init.xavier_uniform_(self.fc1.weight)\n",
    "        init.xavier_uniform_(self.fc2.weight)\n",
    "        init.xavier_uniform_(self.fc3.weight)\n",
    "        init.xavier_uniform_(self.fc4.weight)\n",
    "        init.xavier_uniform_(self.fc5.weight)\n",
    "        \n",
    "        \n",
    "        if self.fc1.bias is not None:\n",
    "            init.zeros_(self.fc1.bias)\n",
    "        if self.fc2.bias is not None:\n",
    "            init.zeros_(self.fc2.bias)\n",
    "        if self.fc3.bias is not None:\n",
    "            init.zeros_(self.fc3.bias)\n",
    "        if self.fc4.bias is not None:\n",
    "            init.zeros_(self.fc4.bias)\n",
    "        if self.fc5.bias is not None:\n",
    "            init.zeros_(self.fc5.bias)\n",
    "\n",
    "    def forward(self, x):\n",
    "        x = self.fc1(x)\n",
    "        x = self.activation(x)\n",
    "        x = self.fc2(x)\n",
    "        x = self.activation(x)\n",
    "        x = self.fc3(x)\n",
    "        x = self.activation(x)\n",
    "        x = self.fc4(x)\n",
    "        x = self.activation(x)\n",
    "        x = self.fc5(x)\n",
    "        x_eval = x[:, 0].unsqueeze(1)\n",
    "        x_evec = x[:, 1:]\n",
    "        x_evec = x_evec / torch.linalg.norm(x_evec)\n",
    "        x = torch.concat((x_eval, x_evec), axis = 1)\n",
    "        return x\n"
   ]
  },
  {
   "cell_type": "code",
   "execution_count": 4,
   "id": "7b5955d4-4853-4374-a1a4-c8c27b5ecb28",
   "metadata": {
    "tags": []
   },
   "outputs": [],
   "source": [
    "device = 'cuda'\n",
    "size = 4000\n",
    "input_size = 750 +  size\n",
    "hidden_size = 1024\n",
    "output_size = 1 + size\n",
    "num_epochs = 5000\n",
    "learning_rate = 0.005"
   ]
  },
  {
   "cell_type": "code",
   "execution_count": 5,
   "id": "8458c86f-4867-4dde-811b-20ec622fa7b2",
   "metadata": {
    "tags": []
   },
   "outputs": [],
   "source": [
    "def generate_samples(E, psi0, dt=1, nb=100):\n",
    "    H = np.zeros(nb, dtype=np.complex128)\n",
    "    S = np.zeros(nb, dtype=np.complex128)\n",
    "    \n",
    "    for j in trange(nb):\n",
    "        H[j] = np.sum(E * np.abs(psi0)**2 * np.exp(-1j * E * j * dt))\n",
    "        S[j] = np.sum(np.abs(psi0)**2 * np.exp(-1j * E * j * dt))\n",
    "    \n",
    "    return H, S"
   ]
  },
  {
   "cell_type": "code",
   "execution_count": 6,
   "id": "19d870b9-369b-4921-b5e3-5fda41be1a15",
   "metadata": {
    "tags": []
   },
   "outputs": [],
   "source": [
    "def lam2lamt(lam, lammin, lammax):\n",
    "    lamt = np.pi / 2 * (lam - (lammin + lammax) / 2) / (lammax - lammin)\n",
    "    return lamt"
   ]
  },
  {
   "cell_type": "code",
   "execution_count": 7,
   "id": "6369df85-4d04-4572-9a3d-1550b98df298",
   "metadata": {
    "tags": []
   },
   "outputs": [],
   "source": [
    "def lamt2lam(lamt, lammin, lammax):\n",
    "    lam = lamt * 2 / np.pi * (lammax - lammin) + (lammin + lammax) / 2\n",
    "    return lam"
   ]
  },
  {
   "cell_type": "code",
   "execution_count": 8,
   "id": "4a8e4f33-bb29-400b-b03b-e9fa1a3d1822",
   "metadata": {
    "tags": []
   },
   "outputs": [],
   "source": [
    "def generate_phi(overlap, N):\n",
    "    phi = np.zeros((N,1))\n",
    "    phi[0] = np.sqrt(overlap)\n",
    "    phi[1:] = np.sqrt((1 - phi[0]**2) / (N - 1))\n",
    "    return phi"
   ]
  },
  {
   "cell_type": "code",
   "execution_count": 9,
   "id": "59ef835d-23d1-4bad-b859-95feada6d7c6",
   "metadata": {
    "tags": []
   },
   "outputs": [],
   "source": [
    "seed = 100\n",
    "np.random.seed(seed)"
   ]
  },
  {
   "cell_type": "code",
   "execution_count": 10,
   "id": "b2ce09f3-beb3-4214-932b-7e4aa3bfef1e",
   "metadata": {
    "tags": []
   },
   "outputs": [],
   "source": [
    "data_cr2 = scipy.io.loadmat('./data/Cr2_4000.mat')"
   ]
  },
  {
   "cell_type": "code",
   "execution_count": 11,
   "id": "d0006361-be02-41d0-bfe2-be1f1eba3c6c",
   "metadata": {
    "tags": []
   },
   "outputs": [],
   "source": [
    "psiHF = data_cr2['psiHF']\n",
    "E = data_cr2['E']"
   ]
  },
  {
   "cell_type": "code",
   "execution_count": 12,
   "id": "4bcdfd13-e1c6-4360-9b45-b4ed9aae43d8",
   "metadata": {
    "tags": []
   },
   "outputs": [],
   "source": [
    "def find_perpendicular_vector(v):\n",
    "    v = np.array(v)\n",
    "    dim = v.shape[0]\n",
    "    \n",
    "    random_vector = np.random.rand(dim)\n",
    "    perpendicular_vector = None\n",
    "    random_vector -= random_vector.dot(v) * v / np.linalg.norm(v)**2\n",
    "    perpendicular_vector = random_vector\n",
    "    \n",
    "    return perpendicular_vector / np.linalg.norm(perpendicular_vector)"
   ]
  },
  {
   "cell_type": "code",
   "execution_count": 13,
   "id": "5d50afec-e350-475a-b3a6-03888e28ff4d",
   "metadata": {
    "tags": []
   },
   "outputs": [],
   "source": [
    "res = find_perpendicular_vector(np.squeeze(psiHF, 1))"
   ]
  },
  {
   "cell_type": "code",
   "execution_count": 14,
   "id": "e20f5346-439b-4e68-a5ac-0ac9040b1860",
   "metadata": {
    "tags": []
   },
   "outputs": [],
   "source": [
    "H = scipy.io.loadmat('./data/H4000.mat')['H']\n",
    "tH = torch.from_numpy(H).to(device)"
   ]
  },
  {
   "cell_type": "code",
   "execution_count": 15,
   "id": "1dc420c8-79dc-45ce-afc0-c29a39287cf8",
   "metadata": {
    "tags": []
   },
   "outputs": [],
   "source": [
    "E0 = (psiHF.conj().T @ H @ psiHF).item()\n",
    "E1 = res.conj().T @ H @ res\n",
    "sigma = (np.sqrt( psiHF.conj().T @ (H @ H) @ psiHF - (psiHF.conj().T @ H @ psiHF) ** 2)).item()\n",
    "improved_bound = 0.5 * (E0 + E1 - np.sqrt((E1 - E0) ** 2 + 4 * sigma ** 2) )\n",
    "estimate_GSE = improved_bound"
   ]
  },
  {
   "cell_type": "code",
   "execution_count": 16,
   "id": "7a859915-817b-4491-a2ed-5360dc1b8801",
   "metadata": {
    "tags": []
   },
   "outputs": [
    {
     "data": {
      "text/plain": [
       "array([0.06285049])"
      ]
     },
     "execution_count": 16,
     "metadata": {},
     "output_type": "execute_result"
    }
   ],
   "source": [
    "abs(improved_bound - E[0])"
   ]
  },
  {
   "cell_type": "code",
   "execution_count": 17,
   "id": "c78989bc-6c98-493b-8ddf-9f43f2f346de",
   "metadata": {
    "tags": []
   },
   "outputs": [],
   "source": [
    "Z = torch.Tensor(scipy.linalg.null_space(H - improved_bound * np.eye(H.shape[0])))"
   ]
  },
  {
   "cell_type": "code",
   "execution_count": 18,
   "id": "7310837a-7b7d-4670-a6a3-4a3b7ef64632",
   "metadata": {
    "tags": []
   },
   "outputs": [],
   "source": [
    "Z_true = torch.Tensor(scipy.linalg.null_space(H - E[0] * np.eye(H.shape[0])))"
   ]
  },
  {
   "cell_type": "code",
   "execution_count": 19,
   "id": "e4ff6079-3827-4d1b-942c-224f27a63fd5",
   "metadata": {
    "tags": []
   },
   "outputs": [
    {
     "name": "stdout",
     "output_type": "stream",
     "text": [
      "Cosine similarity between predicted and true eigenvector: 0.7339673042297363\n",
      "Angle between predicted and true eigenvector (radians): 0.7466514110565186\n"
     ]
    }
   ],
   "source": [
    "cosine_similarity = torch.abs(torch.dot(Z_true.conj().squeeze(1), torch.Tensor(psiHF).squeeze(1)))\n",
    "print(f'Cosine similarity between predicted and true eigenvector: {cosine_similarity.item()}')\n",
    "angle = torch.acos(cosine_similarity).item()\n",
    "print(f'Angle between predicted and true eigenvector (radians): {angle}')"
   ]
  },
  {
   "cell_type": "code",
   "execution_count": null,
   "id": "f91b530f-888b-489d-8682-845755a02a56",
   "metadata": {
    "tags": []
   },
   "outputs": [],
   "source": [
    "Z"
   ]
  },
  {
   "cell_type": "code",
   "execution_count": 20,
   "id": "d6b35b67-f7a8-40f8-91e6-eeac4a6a1e59",
   "metadata": {
    "tags": []
   },
   "outputs": [
    {
     "data": {
      "text/plain": [
       "Text(0.5, 1.0, 'Cr2 Hamiltonian Spectrum')"
      ]
     },
     "execution_count": 20,
     "metadata": {},
     "output_type": "execute_result"
    },
    {
     "data": {
      "image/png": "[encoded data removed]",
      "text/plain": [
       "<Figure size 640x480 with 1 Axes>"
      ]
     },
     "metadata": {},
     "output_type": "display_data"
    }
   ],
   "source": [
    "plt.scatter(range(0, len(E)), E[:,0])\n",
    "plt.xlabel('Eigenvalue index')\n",
    "plt.ylabel('eV')\n",
    "plt.title('Cr2 Hamiltonian Spectrum')"
   ]
  },
  {
   "cell_type": "code",
   "execution_count": 21,
   "id": "ddddd56e-c5b5-45b0-8214-9c0c566189ce",
   "metadata": {
    "tags": []
   },
   "outputs": [],
   "source": [
    "molecule = 'Cr2'\n",
    "noise = 0.999\n",
    "overlap = 0.2# 0: HF\n",
    "Tmax = 750\n",
    "step = 1\n",
    "dt = 1"
   ]
  },
  {
   "cell_type": "code",
   "execution_count": 22,
   "id": "bcfb7377-0e90-49d6-8bba-8113d32357ed",
   "metadata": {
    "tags": []
   },
   "outputs": [],
   "source": [
    "Et = lam2lamt(E,E[0],E[-1])"
   ]
  },
  {
   "cell_type": "code",
   "execution_count": 23,
   "id": "bafa6266-804e-474f-8103-ed39c857531e",
   "metadata": {
    "tags": []
   },
   "outputs": [
    {
     "name": "stdout",
     "output_type": "stream",
     "text": [
      "generated phi\n"
     ]
    },
    {
     "name": "stderr",
     "output_type": "stream",
     "text": [
      "100%|██████████| 750/750 [00:00<00:00, 3095.86it/s]\n"
     ]
    }
   ],
   "source": [
    "if overlap == 0:\n",
    "    dataH,dataS = generate_samples(Et,psiHF,dt,Tmax)\n",
    "    phi = psiHF\n",
    "else:\n",
    "    phi = generate_phi(overlap,len(Et));\n",
    "    print('generated phi')\n",
    "    [dataH,dataS] = generate_samples(Et,phi,dt,Tmax);"
   ]
  },
  {
   "cell_type": "code",
   "execution_count": 24,
   "id": "957cb4dd-2f8d-4442-8774-d1504d18b6ed",
   "metadata": {
    "tags": []
   },
   "outputs": [
    {
     "data": {
      "text/plain": [
       "Text(0.5, 1.0, 'True dynamics')"
      ]
     },
     "execution_count": 24,
     "metadata": {},
     "output_type": "execute_result"
    },
    {
     "data": {
      "image/png": "[encoded data removed]",
      "text/plain": [
       "<Figure size 640x480 with 1 Axes>"
      ]
     },
     "metadata": {},
     "output_type": "display_data"
    }
   ],
   "source": [
    "plt.plot(dataS.real)\n",
    "plt.xlabel('t')\n",
    "plt.ylabel('o(t)')\n",
    "plt.title('True dynamics')"
   ]
  },
  {
   "cell_type": "code",
   "execution_count": 25,
   "id": "172a764f-ea75-418a-9f69-7ea2d6905ed0",
   "metadata": {
    "tags": []
   },
   "outputs": [],
   "source": [
    "tdataS = []\n",
    "num_trajs = 2000\n",
    "for i in range(num_trajs):\n",
    "    ndataS = np.expand_dims((dataS + noise * np.random.randn(Tmax) + 1j * noise * np.random.randn(Tmax)).real, axis=1)\n",
    "\n",
    "    tdataS.append(np.concatenate((ndataS, phi)))"
   ]
  },
  {
   "cell_type": "code",
   "execution_count": 26,
   "id": "37849c11-853d-454f-a1e8-c8976126faed",
   "metadata": {
    "tags": []
   },
   "outputs": [
    {
     "data": {
      "text/plain": [
       "(2000, 4750, 1)"
      ]
     },
     "execution_count": 26,
     "metadata": {},
     "output_type": "execute_result"
    }
   ],
   "source": [
    "ptdataS = np.array(tdataS)\n",
    "# (num_samples, input_size)\n",
    "ptdataS.shape"
   ]
  },
  {
   "cell_type": "code",
   "execution_count": 27,
   "id": "ad50cae6-5971-405e-a8e0-d1258a952cf7",
   "metadata": {
    "tags": []
   },
   "outputs": [
    {
     "data": {
      "text/plain": [
       "Text(0.5, 1.0, 'Noisy dynamics')"
      ]
     },
     "execution_count": 27,
     "metadata": {},
     "output_type": "execute_result"
    },
    {
     "data": {
      "image/png": "[encoded data removed]",
      "text/plain": [
       "<Figure size 640x480 with 1 Axes>"
      ]
     },
     "metadata": {},
     "output_type": "display_data"
    }
   ],
   "source": [
    "for i in range(num_trajs):\n",
    "    plt.plot(ptdataS[i,:].real)\n",
    "plt.xlabel('t')\n",
    "plt.ylabel('o(t)')\n",
    "plt.title('Noisy dynamics')"
   ]
  },
  {
   "cell_type": "code",
   "execution_count": 28,
   "id": "0d27a9f5-59ff-41ce-82de-0b12420ab63f",
   "metadata": {
    "tags": []
   },
   "outputs": [
    {
     "data": {
      "text/plain": [
       "(1, 1)"
      ]
     },
     "execution_count": 28,
     "metadata": {},
     "output_type": "execute_result"
    }
   ],
   "source": [
    "GSE = np.array(E[0]).reshape((1,1))\n",
    "GSE.shape"
   ]
  },
  {
   "cell_type": "code",
   "execution_count": 45,
   "id": "6aeea37b-8779-41da-bdf1-4c3b601e354d",
   "metadata": {
    "tags": []
   },
   "outputs": [],
   "source": [
    "class ResidualLoss(nn.Module):\n",
    "    def __init__(self, alpha=0.1, beta=0.1, gamma=0.1):\n",
    "        super(ResidualLoss, self).__init__()\n",
    "        self.alpha = alpha\n",
    "        self.beta = beta\n",
    "        self.gamma = gamma\n",
    "\n",
    "    def forward(self, predicted_eigval, predicted_eigvec):\n",
    "        import pdb; pdb.set_trace()\n",
    "        residual =  torch.linalg.norm(tH @ predicted_eigvec - predicted_eigval * predicted_eigvec) ** 2 / torch.linalg.norm(tH)\n",
    "        #rayleigh_quotient = torch.abs(predicted_eigval - (predicted_eigvec.conj().T @ tH @ predicted_eigvec).real / torch.linalg.norm(predicted_eigvec)) ** 2\n",
    "        #norm_penalty = self.beta * rayleigh_quotient\n",
    "        lower_bound_penalty = self.alpha * torch.abs(estimate_GSE - predicted_eigval) ** 2\n",
    "        #unit_norm_penalty = self.gamma * (torch.linalg.norm(predicted_eigvec) - 1)**2\n",
    "        #eigenvalue_penalty = self.gamma * predicted_eigval\n",
    "        \n",
    "        # Total loss\n",
    "        total_loss = residual + lower_bound_penalty#+ norm_penalty + lower_bound_penalty \n",
    "\n",
    "        return total_loss"
   ]
  },
  {
   "cell_type": "code",
   "execution_count": 46,
   "id": "a081c729-c355-4810-a573-34bc5148161c",
   "metadata": {
    "tags": []
   },
   "outputs": [],
   "source": [
    "torch.manual_seed(999)\n",
    "model = FullyConnectedNet(input_size, hidden_size, output_size).to(device)\n",
    "criterion = ResidualLoss(alpha=0.1, beta=0.0, gamma=0.0)\n",
    "optimizer = optim.Adam(model.parameters(), lr=0.01)\n",
    "scheduler = CosineAnnealingLR(optimizer, T_max=num_epochs)"
   ]
  },
  {
   "cell_type": "code",
   "execution_count": 47,
   "id": "af745ee3-adb3-4568-be0e-6f6ffb6d9814",
   "metadata": {
    "tags": []
   },
   "outputs": [
    {
     "name": "stderr",
     "output_type": "stream",
     "text": [
      "/tmp/ipykernel_1141005/952611366.py:2: UserWarning: To copy construct from a tensor, it is recommended to use sourceTensor.clone().detach() or sourceTensor.clone().detach().requires_grad_(True), rather than torch.tensor(sourceTensor).\n",
      "  psiHF = torch.tensor(psiHF).double()\n",
      "/tmp/ipykernel_1141005/952611366.py:3: UserWarning: To copy construct from a tensor, it is recommended to use sourceTensor.clone().detach() or sourceTensor.clone().detach().requires_grad_(True), rather than torch.tensor(sourceTensor).\n",
      "  phi = torch.tensor(phi).double()\n"
     ]
    }
   ],
   "source": [
    "dataS = torch.tensor(ptdataS).double()\n",
    "psiHF = torch.tensor(psiHF).double()\n",
    "phi = torch.tensor(phi).double()\n",
    "ref_state = phi"
   ]
  },
  {
   "cell_type": "code",
   "execution_count": 48,
   "id": "4f37e636-9992-41b9-9fe4-cb7d8a8afce1",
   "metadata": {
    "tags": []
   },
   "outputs": [
    {
     "data": {
      "text/plain": [
       "torch.Size([2000, 4750])"
      ]
     },
     "execution_count": 48,
     "metadata": {},
     "output_type": "execute_result"
    }
   ],
   "source": [
    "input_data = dataS.squeeze(2).to(device)\n",
    "input_data.shape"
   ]
  },
  {
   "cell_type": "code",
   "execution_count": 49,
   "id": "16af2a4f-5892-49ed-bafa-3022010ade04",
   "metadata": {
    "tags": []
   },
   "outputs": [],
   "source": [
    "val_preds = []\n",
    "val_mae_gse = []\n",
    "val_mae_ci = []\n",
    "losses = []"
   ]
  },
  {
   "cell_type": "code",
   "execution_count": 50,
   "id": "4b7667f6-23c7-46a1-9bff-3f989df0dba5",
   "metadata": {
    "tags": []
   },
   "outputs": [
    {
     "name": "stderr",
     "output_type": "stream",
     "text": [
      "  0%|          | 0/5000 [00:00<?, ?it/s]"
     ]
    },
    {
     "name": "stdout",
     "output_type": "stream",
     "text": [
      "> \u001b[0;32m/tmp/ipykernel_1141005/2462063703.py\u001b[0m(10)\u001b[0;36mforward\u001b[0;34m()\u001b[0m\n",
      "\u001b[0;32m      8 \u001b[0;31m    \u001b[0;32mdef\u001b[0m \u001b[0mforward\u001b[0m\u001b[0;34m(\u001b[0m\u001b[0mself\u001b[0m\u001b[0;34m,\u001b[0m \u001b[0mpredicted_eigval\u001b[0m\u001b[0;34m,\u001b[0m \u001b[0mpredicted_eigvec\u001b[0m\u001b[0;34m)\u001b[0m\u001b[0;34m:\u001b[0m\u001b[0;34m\u001b[0m\u001b[0;34m\u001b[0m\u001b[0m\n",
      "\u001b[0m\u001b[0;32m      9 \u001b[0;31m        \u001b[0;32mimport\u001b[0m \u001b[0mpdb\u001b[0m\u001b[0;34m;\u001b[0m \u001b[0mpdb\u001b[0m\u001b[0;34m.\u001b[0m\u001b[0mset_trace\u001b[0m\u001b[0;34m(\u001b[0m\u001b[0;34m)\u001b[0m\u001b[0;34m\u001b[0m\u001b[0;34m\u001b[0m\u001b[0m\n",
      "\u001b[0m\u001b[0;32m---> 10 \u001b[0;31m        \u001b[0mresidual\u001b[0m \u001b[0;34m=\u001b[0m  \u001b[0mtorch\u001b[0m\u001b[0;34m.\u001b[0m\u001b[0mlinalg\u001b[0m\u001b[0;34m.\u001b[0m\u001b[0mnorm\u001b[0m\u001b[0;34m(\u001b[0m\u001b[0mtH\u001b[0m \u001b[0;34m@\u001b[0m \u001b[0mpredicted_eigvec\u001b[0m \u001b[0;34m-\u001b[0m \u001b[0mpredicted_eigval\u001b[0m \u001b[0;34m*\u001b[0m \u001b[0mpredicted_eigvec\u001b[0m\u001b[0;34m)\u001b[0m \u001b[0;34m**\u001b[0m \u001b[0;36m2\u001b[0m \u001b[0;34m/\u001b[0m \u001b[0mtorch\u001b[0m\u001b[0;34m.\u001b[0m\u001b[0mlinalg\u001b[0m\u001b[0;34m.\u001b[0m\u001b[0mnorm\u001b[0m\u001b[0;34m(\u001b[0m\u001b[0mtH\u001b[0m\u001b[0;34m)\u001b[0m\u001b[0;34m\u001b[0m\u001b[0;34m\u001b[0m\u001b[0m\n",
      "\u001b[0m\u001b[0;32m     11 \u001b[0;31m        \u001b[0;31m#rayleigh_quotient = torch.abs(predicted_eigval - (predicted_eigvec.conj().T @ tH @ predicted_eigvec).real / torch.linalg.norm(predicted_eigvec)) ** 2\u001b[0m\u001b[0;34m\u001b[0m\u001b[0;34m\u001b[0m\u001b[0m\n",
      "\u001b[0m\u001b[0;32m     12 \u001b[0;31m        \u001b[0;31m#norm_penalty = self.beta * rayleigh_quotient\u001b[0m\u001b[0;34m\u001b[0m\u001b[0;34m\u001b[0m\u001b[0m\n",
      "\u001b[0m\n"
     ]
    },
    {
     "name": "stdin",
     "output_type": "stream",
     "text": [
      "ipdb>  n\n"
     ]
    },
    {
     "name": "stdout",
     "output_type": "stream",
     "text": [
      "> \u001b[0;32m/tmp/ipykernel_1141005/2462063703.py\u001b[0m(13)\u001b[0;36mforward\u001b[0;34m()\u001b[0m\n",
      "\u001b[0;32m     11 \u001b[0;31m        \u001b[0;31m#rayleigh_quotient = torch.abs(predicted_eigval - (predicted_eigvec.conj().T @ tH @ predicted_eigvec).real / torch.linalg.norm(predicted_eigvec)) ** 2\u001b[0m\u001b[0;34m\u001b[0m\u001b[0;34m\u001b[0m\u001b[0m\n",
      "\u001b[0m\u001b[0;32m     12 \u001b[0;31m        \u001b[0;31m#norm_penalty = self.beta * rayleigh_quotient\u001b[0m\u001b[0;34m\u001b[0m\u001b[0;34m\u001b[0m\u001b[0m\n",
      "\u001b[0m\u001b[0;32m---> 13 \u001b[0;31m        \u001b[0mlower_bound_penalty\u001b[0m \u001b[0;34m=\u001b[0m \u001b[0mself\u001b[0m\u001b[0;34m.\u001b[0m\u001b[0malpha\u001b[0m \u001b[0;34m*\u001b[0m \u001b[0mtorch\u001b[0m\u001b[0;34m.\u001b[0m\u001b[0mabs\u001b[0m\u001b[0;34m(\u001b[0m\u001b[0mestimate_GSE\u001b[0m \u001b[0;34m-\u001b[0m \u001b[0mpredicted_eigval\u001b[0m\u001b[0;34m)\u001b[0m \u001b[0;34m**\u001b[0m \u001b[0;36m2\u001b[0m\u001b[0;34m\u001b[0m\u001b[0;34m\u001b[0m\u001b[0m\n",
      "\u001b[0m\u001b[0;32m     14 \u001b[0;31m        \u001b[0;31m#unit_norm_penalty = self.gamma * (torch.linalg.norm(predicted_eigvec) - 1)**2\u001b[0m\u001b[0;34m\u001b[0m\u001b[0;34m\u001b[0m\u001b[0m\n",
      "\u001b[0m\u001b[0;32m     15 \u001b[0;31m        \u001b[0;31m#eigenvalue_penalty = self.gamma * predicted_eigval\u001b[0m\u001b[0;34m\u001b[0m\u001b[0;34m\u001b[0m\u001b[0m\n",
      "\u001b[0m\n"
     ]
    },
    {
     "name": "stdin",
     "output_type": "stream",
     "text": [
      "ipdb>  n\n"
     ]
    },
    {
     "name": "stdout",
     "output_type": "stream",
     "text": [
      "> \u001b[0;32m/tmp/ipykernel_1141005/2462063703.py\u001b[0m(18)\u001b[0;36mforward\u001b[0;34m()\u001b[0m\n",
      "\u001b[0;32m     16 \u001b[0;31m\u001b[0;34m\u001b[0m\u001b[0m\n",
      "\u001b[0m\u001b[0;32m     17 \u001b[0;31m        \u001b[0;31m# Total loss\u001b[0m\u001b[0;34m\u001b[0m\u001b[0;34m\u001b[0m\u001b[0m\n",
      "\u001b[0m\u001b[0;32m---> 18 \u001b[0;31m        \u001b[0mtotal_loss\u001b[0m \u001b[0;34m=\u001b[0m \u001b[0mresidual\u001b[0m \u001b[0;34m+\u001b[0m \u001b[0mlower_bound_penalty\u001b[0m\u001b[0;31m#+ norm_penalty + lower_bound_penalty\u001b[0m\u001b[0;34m\u001b[0m\u001b[0;34m\u001b[0m\u001b[0m\n",
      "\u001b[0m\u001b[0;32m     19 \u001b[0;31m\u001b[0;34m\u001b[0m\u001b[0m\n",
      "\u001b[0m\u001b[0;32m     20 \u001b[0;31m        \u001b[0;32mreturn\u001b[0m \u001b[0mtotal_loss\u001b[0m\u001b[0;34m\u001b[0m\u001b[0;34m\u001b[0m\u001b[0m\n",
      "\u001b[0m\n"
     ]
    },
    {
     "name": "stdin",
     "output_type": "stream",
     "text": [
      "ipdb>  lower_bound_penalty\n"
     ]
    },
    {
     "name": "stdout",
     "output_type": "stream",
     "text": [
      "tensor(2898.9738, device='cuda:0', dtype=torch.float64, grad_fn=<MulBackward0>)\n"
     ]
    },
    {
     "name": "stdin",
     "output_type": "stream",
     "text": [
      "ipdb>  n\n"
     ]
    },
    {
     "name": "stdout",
     "output_type": "stream",
     "text": [
      "> \u001b[0;32m/tmp/ipykernel_1141005/2462063703.py\u001b[0m(20)\u001b[0;36mforward\u001b[0;34m()\u001b[0m\n",
      "\u001b[0;32m     16 \u001b[0;31m\u001b[0;34m\u001b[0m\u001b[0m\n",
      "\u001b[0m\u001b[0;32m     17 \u001b[0;31m        \u001b[0;31m# Total loss\u001b[0m\u001b[0;34m\u001b[0m\u001b[0;34m\u001b[0m\u001b[0m\n",
      "\u001b[0m\u001b[0;32m     18 \u001b[0;31m        \u001b[0mtotal_loss\u001b[0m \u001b[0;34m=\u001b[0m \u001b[0mresidual\u001b[0m \u001b[0;34m+\u001b[0m \u001b[0mlower_bound_penalty\u001b[0m\u001b[0;31m#+ norm_penalty + lower_bound_penalty\u001b[0m\u001b[0;34m\u001b[0m\u001b[0;34m\u001b[0m\u001b[0m\n",
      "\u001b[0m\u001b[0;32m     19 \u001b[0;31m\u001b[0;34m\u001b[0m\u001b[0m\n",
      "\u001b[0m\u001b[0;32m---> 20 \u001b[0;31m        \u001b[0;32mreturn\u001b[0m \u001b[0mtotal_loss\u001b[0m\u001b[0;34m\u001b[0m\u001b[0;34m\u001b[0m\u001b[0m\n",
      "\u001b[0m\n"
     ]
    },
    {
     "name": "stdin",
     "output_type": "stream",
     "text": [
      "ipdb>  alpha\n"
     ]
    },
    {
     "name": "stdout",
     "output_type": "stream",
     "text": [
      "*** NameError: name 'alpha' is not defined\n"
     ]
    },
    {
     "name": "stdin",
     "output_type": "stream",
     "text": [
      "ipdb>  self.alpha\n"
     ]
    },
    {
     "name": "stdout",
     "output_type": "stream",
     "text": [
      "0.1\n"
     ]
    },
    {
     "name": "stdin",
     "output_type": "stream",
     "text": [
      "ipdb>  estimate_GSE\n"
     ]
    },
    {
     "name": "stdout",
     "output_type": "stream",
     "text": [
      "-170.23493340106455\n"
     ]
    },
    {
     "name": "stdin",
     "output_type": "stream",
     "text": [
      "ipdb>  predicted_eigval\n"
     ]
    },
    {
     "name": "stdout",
     "output_type": "stream",
     "text": [
      "tensor(0.0288, device='cuda:0', dtype=torch.float64, grad_fn=<SelectBackward0>)\n"
     ]
    },
    {
     "name": "stdin",
     "output_type": "stream",
     "text": [
      "ipdb>  residual\n"
     ]
    },
    {
     "name": "stdout",
     "output_type": "stream",
     "text": [
      "tensor(0.0012, device='cuda:0', dtype=torch.float64, grad_fn=<DivBackward0>)\n"
     ]
    },
    {
     "name": "stdin",
     "output_type": "stream",
     "text": [
      "ipdb>  torch.abs(estimate_GSE - predicted_eigval)\n"
     ]
    },
    {
     "name": "stdout",
     "output_type": "stream",
     "text": [
      "tensor(170.2637, device='cuda:0', dtype=torch.float64, grad_fn=<AbsBackward0>)\n"
     ]
    },
    {
     "name": "stdin",
     "output_type": "stream",
     "text": [
      "ipdb>  exit\n"
     ]
    },
    {
     "name": "stderr",
     "output_type": "stream",
     "text": [
      "  0%|          | 0/5000 [00:59<?, ?it/s]\n"
     ]
    }
   ],
   "source": [
    "for epoch in trange(num_epochs):\n",
    "    model.train()\n",
    "\n",
    "    outputs = model(input_data)\n",
    "    \n",
    "    pred_eval = outputs[:, 0]\n",
    "    pred_evec_all = outputs[:, 1:]\n",
    "    #loss = criterion(pred_eval, pred_evec_all)\n",
    "    loss = criterion(pred_eval, pred_evec_all)\n",
    "    optimizer.zero_grad()\n",
    "    loss.backward()\n",
    "    optimizer.step()\n",
    "    #scheduler.step()\n",
    "\n",
    "    \n",
    "    if (epoch+1) % 1000 == 0:\n",
    "        \n",
    "        print(f'Epoch [{epoch+1}/{num_epochs}], Loss: {loss.item():.8f}')\n",
    "        model.eval()\n",
    "        with torch.no_grad():  \n",
    "            #prediction = model(-torch.ones(testdata.shape[1]).reshape((1,testdata.shape[1])).double().to(device))\n",
    "            prediction = model(input_data)\n",
    "            pred_eval = prediction[0,0].item()\n",
    "            pred_evec = prediction[0, 1:].reshape((size, 1))\n",
    "            residual = torch.linalg.norm(tH @ pred_evec - pred_eval * pred_evec) / torch.linalg.norm(tH)\n",
    "            losses.append(loss.item())\n",
    "            eig_val_idx_errs = []\n",
    "            for i in range(E.shape[0]):\n",
    "                eig_val_idx_errs.append(abs(E[i] - pred_eval))\n",
    "            closest_index = np.argmin(np.abs(E - pred_eval))\n",
    "            mae_closest_index = abs(E[closest_index] - pred_eval)\n",
    "            mae_gse = abs(E[0] - pred_eval)\n",
    "            val_preds.append(pred_eval)\n",
    "            val_mae_gse.append(mae_gse.item())\n",
    "            val_mae_ci.append(mae_closest_index.item())\n",
    "            print(f'Prediction: {pred_eval}, Closest index: {closest_index}, MAE_CI: {mae_closest_index}, MAE_GSE: {mae_gse}')\n",
    "\n",
    "print(\"Training complete\")"
   ]
  },
  {
   "cell_type": "code",
   "execution_count": 30,
   "id": "5e4dbc4e-775d-433c-bda3-bc9e851da5ee",
   "metadata": {
    "tags": []
   },
   "outputs": [
    {
     "data": {
      "image/png": "[encoded data removed]",
      "text/plain": [
       "<Figure size 1200x1000 with 4 Axes>"
      ]
     },
     "metadata": {},
     "output_type": "display_data"
    }
   ],
   "source": [
    "epoch = np.array([1000, 2000, 3000, 4000, 5000])\n",
    "\n",
    "correct_inds = [0, 1, 2, 3, 4]\n",
    "\n",
    "fig, axes = plt.subplots(2, 2, figsize=(12, 10))\n",
    "\n",
    "# axes[0, 0].semilogy(epoch, torch.Tensor(losses) * torch.linalg.norm(tH.detach().cpu()), label='residual')\n",
    "# axes[0, 0].semilogy(epoch, losses, label='normalized residual')\n",
    "# #axes[0, 0].set_ylim([-4, 1])\n",
    "# axes[0, 0].set_xticks(epoch) \n",
    "# axes[0, 0].set_ylabel(r'$L(\\lambda_i, x_i)$')\n",
    "# axes[0, 0].set_title('Residual loss during training')\n",
    "# axes[0, 0].legend(frameon=False)\n",
    "\n",
    "axes[0, 0].semilogy(epoch, losses)\n",
    "#axes[0, 0].set_ylim([-4, 1])\n",
    "axes[0, 0].set_xticks(epoch) \n",
    "axes[0, 0].set_ylabel(r'$L(\\lambda_i, x_i)$')\n",
    "axes[0, 0].set_title('Total loss during training')\n",
    "#axes[0, 0].legend(frameon=False)\n",
    "\n",
    "\n",
    "axes[0, 1].semilogy(epoch, val_mae_gse, color = 'purple')\n",
    "axes[0, 1].set_xticks(epoch)\n",
    "axes[0, 1].set_title('MAE (GSE)')\n",
    "axes[0, 1].set_ylabel(r'$|\\widetilde{\\lambda_0} - \\lambda_0|$')\n",
    "\n",
    "mask = np.isin(np.arange(len(epoch)), correct_inds)\n",
    "colors = np.where(mask, 'r', 'b')  \n",
    "axes[1, 0].scatter(epoch, val_preds, marker='*', c=colors, label='Predicted GSE')\n",
    "axes[1, 0].plot([epoch[0], epoch[-1]], [E[0], E[0]], ':k', label='Reference GSE')\n",
    "axes[1, 0].set_xticks(epoch)\n",
    "axes[1, 0].set_ylim([E[0]-2, E[0] + 2])\n",
    "axes[1, 0].set_xlabel('Epochs')\n",
    "axes[1, 0].set_ylabel('eV')\n",
    "axes[1, 0].set_title('GSE Prediction')\n",
    "axes[1, 0].legend(frameon=True)\n",
    "\n",
    "axes[1, 1].semilogy(epoch, val_mae_ci, color = 'green')\n",
    "axes[1, 1].set_xticks(epoch)\n",
    "axes[1, 0].set_xlabel('Epochs')\n",
    "axes[1, 1].set_title('MAE (CI)')\n",
    "axes[1, 1].set_ylabel(r'$|\\widetilde{\\lambda_{CI}} - \\lambda_{CI}|$')\n",
    "axes[1, 1].set_xlabel('Epochs')\n",
    "plt.tight_layout()\n",
    "\n",
    "#plt.savefig('./figures/cr2_zero_total_loss_total_figure.pdf')"
   ]
  },
  {
   "cell_type": "code",
   "execution_count": 31,
   "id": "78f89dd4-36dd-406e-a83d-9483f4e87a9c",
   "metadata": {
    "tags": []
   },
   "outputs": [],
   "source": [
    "Z = scipy.linalg.null_space(H - E[0] * np.eye(H.shape[0]))"
   ]
  },
  {
   "cell_type": "code",
   "execution_count": 32,
   "id": "4edfc504-132d-49d3-af8e-8f21ab7fbadd",
   "metadata": {
    "tags": []
   },
   "outputs": [
    {
     "data": {
      "text/plain": [
       "array([[-1.98951966e-13]])"
      ]
     },
     "execution_count": 32,
     "metadata": {},
     "output_type": "execute_result"
    }
   ],
   "source": [
    "E[0] - (Z.conj().T @ H @ Z)/np.linalg.norm(Z)"
   ]
  },
  {
   "cell_type": "code",
   "execution_count": 33,
   "id": "8aff6601-f978-4c6b-9bfc-2152007d39df",
   "metadata": {
    "tags": []
   },
   "outputs": [
    {
     "data": {
      "text/plain": [
       "FullyConnectedNet(\n",
       "  (fc1): Linear(in_features=4750, out_features=1024, bias=True)\n",
       "  (fc2): Linear(in_features=1024, out_features=1024, bias=True)\n",
       "  (fc3): Linear(in_features=1024, out_features=1024, bias=True)\n",
       "  (fc4): Linear(in_features=1024, out_features=1024, bias=True)\n",
       "  (fc5): Linear(in_features=1024, out_features=4001, bias=True)\n",
       "  (activation): Tanh()\n",
       ")"
      ]
     },
     "execution_count": 33,
     "metadata": {},
     "output_type": "execute_result"
    }
   ],
   "source": [
    "model.eval()"
   ]
  },
  {
   "cell_type": "code",
   "execution_count": 34,
   "id": "d53eef71-ee2a-41b6-8e81-8427505f70ed",
   "metadata": {
    "tags": []
   },
   "outputs": [],
   "source": [
    "# clean_dataS = torch.tensor(generate_samples(Et,phi,dt,Tmax)[1]).real.reshape((1,dataS.shape[1]))"
   ]
  },
  {
   "cell_type": "code",
   "execution_count": 35,
   "id": "bcbd4569-8d56-40d7-92e4-35661a6fc700",
   "metadata": {
    "tags": []
   },
   "outputs": [
    {
     "data": {
      "text/plain": [
       "-170.297783886436"
      ]
     },
     "execution_count": 35,
     "metadata": {},
     "output_type": "execute_result"
    }
   ],
   "source": [
    "E[0].item()"
   ]
  },
  {
   "cell_type": "code",
   "execution_count": 48,
   "id": "40e923fc-c6b2-4d28-acf8-32bdf83f72ad",
   "metadata": {
    "tags": []
   },
   "outputs": [],
   "source": [
    "testdata = torch.Tensor(np.concatenate(((dataS + 10.0 * np.random.randn(dataS.shape[0])).real, psiHF.T), axis = 1)).reshape((1, Tmax + psiHF.shape[0])).double().to(device)"
   ]
  },
  {
   "cell_type": "code",
   "execution_count": 49,
   "id": "cf5307bf-a1c2-4baf-b5a7-9562b293634e",
   "metadata": {
    "tags": []
   },
   "outputs": [],
   "source": [
    "with torch.no_grad():  \n",
    "    #prediction = model(-torch.ones(testdata.shape[1]).reshape((1,testdata.shape[1])).double().to(device))\n",
    "    prediction = model(testdata)"
   ]
  },
  {
   "cell_type": "code",
   "execution_count": 50,
   "id": "b3661c44-e654-41c7-ba07-d9c730a8e97f",
   "metadata": {
    "tags": []
   },
   "outputs": [],
   "source": [
    "pred_eval = prediction[0,0].item()\n",
    "pred_evec = prediction[0, 1:].reshape((size, 1))"
   ]
  },
  {
   "cell_type": "code",
   "execution_count": 51,
   "id": "c48db5bb-fae1-43ad-964e-6754c56cc7e2",
   "metadata": {
    "tags": []
   },
   "outputs": [
    {
     "data": {
      "text/plain": [
       "-170.26663222344607"
      ]
     },
     "execution_count": 51,
     "metadata": {},
     "output_type": "execute_result"
    }
   ],
   "source": [
    "pred_eval"
   ]
  },
  {
   "cell_type": "code",
   "execution_count": 40,
   "id": "d7508a5c-0c0e-486f-a4d5-f1c33551ba09",
   "metadata": {
    "tags": []
   },
   "outputs": [
    {
     "data": {
      "text/plain": [
       "tensor(2.4388, device='cuda:0', dtype=torch.float64)"
      ]
     },
     "execution_count": 40,
     "metadata": {},
     "output_type": "execute_result"
    }
   ],
   "source": [
    "torch.linalg.norm(tH @ pred_evec - pred_eval * pred_evec)"
   ]
  },
  {
   "cell_type": "code",
   "execution_count": 234,
   "id": "649e3d71-64e8-4618-b7de-186d39995945",
   "metadata": {
    "tags": []
   },
   "outputs": [],
   "source": [
    "eig_val_idx_errs = []\n",
    "for i in range(E.shape[0]):\n",
    "    eig_val_idx_errs.append(abs(E[i] - pred_eval))"
   ]
  },
  {
   "cell_type": "code",
   "execution_count": 235,
   "id": "7187f90d-d66c-41fd-84fb-7b014d2104bf",
   "metadata": {
    "tags": []
   },
   "outputs": [
    {
     "data": {
      "text/plain": [
       "(array([4.9129017]), 0)"
      ]
     },
     "execution_count": 235,
     "metadata": {},
     "output_type": "execute_result"
    }
   ],
   "source": [
    "closest_index = np.argmin(np.abs(E - pred_eval))\n",
    "abs(E[closest_index] - pred_eval), closest_index"
   ]
  },
  {
   "cell_type": "code",
   "execution_count": 32,
   "id": "518ce101-ea78-47ac-9b32-be5f0666f51e",
   "metadata": {
    "tags": []
   },
   "outputs": [
    {
     "name": "stderr",
     "output_type": "stream",
     "text": [
      "  0%|          | 0/700 [00:00<?, ?it/s]\n"
     ]
    },
    {
     "ename": "RuntimeError",
     "evalue": "mat1 and mat2 shapes cannot be multiplied (1x750 and 4750x1024)",
     "output_type": "error",
     "traceback": [
      "\u001b[0;31m---------------------------------------------------------------------------\u001b[0m",
      "\u001b[0;31mRuntimeError\u001b[0m                              Traceback (most recent call last)",
      "Cell \u001b[0;32mIn[32], line 10\u001b[0m\n\u001b[1;32m      8\u001b[0m padded_new_noisy_data[:, :cutoff] \u001b[38;5;241m=\u001b[39m (noisy_data)[:, :cutoff]\n\u001b[1;32m      9\u001b[0m \u001b[38;5;28;01mwith\u001b[39;00m torch\u001b[38;5;241m.\u001b[39mno_grad():  \n\u001b[0;32m---> 10\u001b[0m     prediction \u001b[38;5;241m=\u001b[39m \u001b[43mmodel\u001b[49m\u001b[43m(\u001b[49m\u001b[43mtorch\u001b[49m\u001b[38;5;241;43m.\u001b[39;49m\u001b[43mtensor\u001b[49m\u001b[43m(\u001b[49m\u001b[43mpadded_new_noisy_data\u001b[49m\u001b[43m)\u001b[49m\u001b[38;5;241;43m.\u001b[39;49m\u001b[43mdouble\u001b[49m\u001b[43m(\u001b[49m\u001b[43m)\u001b[49m\u001b[38;5;241;43m.\u001b[39;49m\u001b[43mto\u001b[49m\u001b[43m(\u001b[49m\u001b[43mdevice\u001b[49m\u001b[43m)\u001b[49m\u001b[43m)\u001b[49m\n\u001b[1;32m     11\u001b[0m     predicted_gses\u001b[38;5;241m.\u001b[39mappend(prediction\u001b[38;5;241m.\u001b[39mitem())\n\u001b[1;32m     12\u001b[0m abserr \u001b[38;5;241m=\u001b[39m \u001b[38;5;28mabs\u001b[39m(\u001b[38;5;28mabs\u001b[39m(prediction\u001b[38;5;241m.\u001b[39mitem()) \u001b[38;5;241m-\u001b[39m \u001b[38;5;28mabs\u001b[39m(E[\u001b[38;5;241m0\u001b[39m]))\n",
      "File \u001b[0;32m/global/common/software/nersc/pm-2022q4/sw/pytorch/2.0.1/lib/python3.9/site-packages/torch/nn/modules/module.py:1501\u001b[0m, in \u001b[0;36mModule._call_impl\u001b[0;34m(self, *args, **kwargs)\u001b[0m\n\u001b[1;32m   1496\u001b[0m \u001b[38;5;66;03m# If we don't have any hooks, we want to skip the rest of the logic in\u001b[39;00m\n\u001b[1;32m   1497\u001b[0m \u001b[38;5;66;03m# this function, and just call forward.\u001b[39;00m\n\u001b[1;32m   1498\u001b[0m \u001b[38;5;28;01mif\u001b[39;00m \u001b[38;5;129;01mnot\u001b[39;00m (\u001b[38;5;28mself\u001b[39m\u001b[38;5;241m.\u001b[39m_backward_hooks \u001b[38;5;129;01mor\u001b[39;00m \u001b[38;5;28mself\u001b[39m\u001b[38;5;241m.\u001b[39m_backward_pre_hooks \u001b[38;5;129;01mor\u001b[39;00m \u001b[38;5;28mself\u001b[39m\u001b[38;5;241m.\u001b[39m_forward_hooks \u001b[38;5;129;01mor\u001b[39;00m \u001b[38;5;28mself\u001b[39m\u001b[38;5;241m.\u001b[39m_forward_pre_hooks\n\u001b[1;32m   1499\u001b[0m         \u001b[38;5;129;01mor\u001b[39;00m _global_backward_pre_hooks \u001b[38;5;129;01mor\u001b[39;00m _global_backward_hooks\n\u001b[1;32m   1500\u001b[0m         \u001b[38;5;129;01mor\u001b[39;00m _global_forward_hooks \u001b[38;5;129;01mor\u001b[39;00m _global_forward_pre_hooks):\n\u001b[0;32m-> 1501\u001b[0m     \u001b[38;5;28;01mreturn\u001b[39;00m \u001b[43mforward_call\u001b[49m\u001b[43m(\u001b[49m\u001b[38;5;241;43m*\u001b[39;49m\u001b[43margs\u001b[49m\u001b[43m,\u001b[49m\u001b[43m \u001b[49m\u001b[38;5;241;43m*\u001b[39;49m\u001b[38;5;241;43m*\u001b[39;49m\u001b[43mkwargs\u001b[49m\u001b[43m)\u001b[49m\n\u001b[1;32m   1502\u001b[0m \u001b[38;5;66;03m# Do not call functions when jit is used\u001b[39;00m\n\u001b[1;32m   1503\u001b[0m full_backward_hooks, non_full_backward_hooks \u001b[38;5;241m=\u001b[39m [], []\n",
      "Cell \u001b[0;32mIn[2], line 35\u001b[0m, in \u001b[0;36mFullyConnectedNet.forward\u001b[0;34m(self, x)\u001b[0m\n\u001b[1;32m     34\u001b[0m \u001b[38;5;28;01mdef\u001b[39;00m \u001b[38;5;21mforward\u001b[39m(\u001b[38;5;28mself\u001b[39m, x):\n\u001b[0;32m---> 35\u001b[0m     x \u001b[38;5;241m=\u001b[39m \u001b[38;5;28;43mself\u001b[39;49m\u001b[38;5;241;43m.\u001b[39;49m\u001b[43mfc1\u001b[49m\u001b[43m(\u001b[49m\u001b[43mx\u001b[49m\u001b[43m)\u001b[49m\n\u001b[1;32m     36\u001b[0m     x \u001b[38;5;241m=\u001b[39m \u001b[38;5;28mself\u001b[39m\u001b[38;5;241m.\u001b[39mactivation(x)\n\u001b[1;32m     37\u001b[0m     x \u001b[38;5;241m=\u001b[39m \u001b[38;5;28mself\u001b[39m\u001b[38;5;241m.\u001b[39mfc2(x)\n",
      "File \u001b[0;32m/global/common/software/nersc/pm-2022q4/sw/pytorch/2.0.1/lib/python3.9/site-packages/torch/nn/modules/module.py:1501\u001b[0m, in \u001b[0;36mModule._call_impl\u001b[0;34m(self, *args, **kwargs)\u001b[0m\n\u001b[1;32m   1496\u001b[0m \u001b[38;5;66;03m# If we don't have any hooks, we want to skip the rest of the logic in\u001b[39;00m\n\u001b[1;32m   1497\u001b[0m \u001b[38;5;66;03m# this function, and just call forward.\u001b[39;00m\n\u001b[1;32m   1498\u001b[0m \u001b[38;5;28;01mif\u001b[39;00m \u001b[38;5;129;01mnot\u001b[39;00m (\u001b[38;5;28mself\u001b[39m\u001b[38;5;241m.\u001b[39m_backward_hooks \u001b[38;5;129;01mor\u001b[39;00m \u001b[38;5;28mself\u001b[39m\u001b[38;5;241m.\u001b[39m_backward_pre_hooks \u001b[38;5;129;01mor\u001b[39;00m \u001b[38;5;28mself\u001b[39m\u001b[38;5;241m.\u001b[39m_forward_hooks \u001b[38;5;129;01mor\u001b[39;00m \u001b[38;5;28mself\u001b[39m\u001b[38;5;241m.\u001b[39m_forward_pre_hooks\n\u001b[1;32m   1499\u001b[0m         \u001b[38;5;129;01mor\u001b[39;00m _global_backward_pre_hooks \u001b[38;5;129;01mor\u001b[39;00m _global_backward_hooks\n\u001b[1;32m   1500\u001b[0m         \u001b[38;5;129;01mor\u001b[39;00m _global_forward_hooks \u001b[38;5;129;01mor\u001b[39;00m _global_forward_pre_hooks):\n\u001b[0;32m-> 1501\u001b[0m     \u001b[38;5;28;01mreturn\u001b[39;00m \u001b[43mforward_call\u001b[49m\u001b[43m(\u001b[49m\u001b[38;5;241;43m*\u001b[39;49m\u001b[43margs\u001b[49m\u001b[43m,\u001b[49m\u001b[43m \u001b[49m\u001b[38;5;241;43m*\u001b[39;49m\u001b[38;5;241;43m*\u001b[39;49m\u001b[43mkwargs\u001b[49m\u001b[43m)\u001b[49m\n\u001b[1;32m   1502\u001b[0m \u001b[38;5;66;03m# Do not call functions when jit is used\u001b[39;00m\n\u001b[1;32m   1503\u001b[0m full_backward_hooks, non_full_backward_hooks \u001b[38;5;241m=\u001b[39m [], []\n",
      "File \u001b[0;32m/global/common/software/nersc/pm-2022q4/sw/pytorch/2.0.1/lib/python3.9/site-packages/torch/nn/modules/linear.py:114\u001b[0m, in \u001b[0;36mLinear.forward\u001b[0;34m(self, input)\u001b[0m\n\u001b[1;32m    113\u001b[0m \u001b[38;5;28;01mdef\u001b[39;00m \u001b[38;5;21mforward\u001b[39m(\u001b[38;5;28mself\u001b[39m, \u001b[38;5;28minput\u001b[39m: Tensor) \u001b[38;5;241m-\u001b[39m\u001b[38;5;241m>\u001b[39m Tensor:\n\u001b[0;32m--> 114\u001b[0m     \u001b[38;5;28;01mreturn\u001b[39;00m \u001b[43mF\u001b[49m\u001b[38;5;241;43m.\u001b[39;49m\u001b[43mlinear\u001b[49m\u001b[43m(\u001b[49m\u001b[38;5;28;43minput\u001b[39;49m\u001b[43m,\u001b[49m\u001b[43m \u001b[49m\u001b[38;5;28;43mself\u001b[39;49m\u001b[38;5;241;43m.\u001b[39;49m\u001b[43mweight\u001b[49m\u001b[43m,\u001b[49m\u001b[43m \u001b[49m\u001b[38;5;28;43mself\u001b[39;49m\u001b[38;5;241;43m.\u001b[39;49m\u001b[43mbias\u001b[49m\u001b[43m)\u001b[49m\n",
      "\u001b[0;31mRuntimeError\u001b[0m: mat1 and mat2 shapes cannot be multiplied (1x750 and 4750x1024)"
     ]
    }
   ],
   "source": [
    "np.random.seed(999)\n",
    "errs = []\n",
    "predicted_gses = []\n",
    "noisy_data = clean_dataS + 0.999 * np.random.randn(dataS.shape[1])\n",
    "for k in trange(50,750):\n",
    "    padded_new_noisy_data = -np.ones(dataS.shape)\n",
    "    cutoff = k\n",
    "    padded_new_noisy_data[:, :cutoff] = (noisy_data)[:, :cutoff]\n",
    "    with torch.no_grad():  \n",
    "        prediction = model(torch.tensor(padded_new_noisy_data).double().to(device))\n",
    "        predicted_gses.append(prediction.item())\n",
    "    abserr = abs(abs(prediction.item()) - abs(E[0]))\n",
    "    errs.append(abserr.item())"
   ]
  },
  {
   "cell_type": "code",
   "execution_count": null,
   "id": "8363d140-7e22-4237-9bec-a9e868803b29",
   "metadata": {
    "tags": []
   },
   "outputs": [],
   "source": [
    "plt.scatter(list(range(50,750)),errs,marker='*')\n",
    "plt.plot([50, 750], [1e-3, 1e-3], ':k')\n",
    "plt.xlabel('Length of queried sequence')\n",
    "plt.ylabel(r'$|\\widetilde{GSE} - GSE|$')\n",
    "plt.yscale('log')\n",
    "plt.title('FFNN Prediction of GSE (noise = '+str(0.999)+ ', overlap = '+str(overlap) + ')')\n",
    "plt.legend(['abs err','chemical accuracy'],frameon=True)\n",
    "plt.tight_layout()\n",
    "#plt.savefig('./figures/rnn_cr2_train_noise=0.999_overlap=0.2_test_clean_noise=0.999_seed=999.pdf')"
   ]
  },
  {
   "cell_type": "code",
   "execution_count": null,
   "id": "ad57fbd2-a94f-423c-8ea5-cb625f0662b2",
   "metadata": {
    "tags": []
   },
   "outputs": [],
   "source": [
    "plt.scatter(list(range(50,750)),predicted_gses,marker='*')\n",
    "plt.plot([50, 750], [E[0], E[0]], ':k')\n",
    "plt.xlabel('Length of queried sequence')\n",
    "plt.ylabel(r'$\\lambda_0$')\n",
    "#plt.yscale('log')\n",
    "plt.title('FFNN Prediction of GSE (noise = '+str(0.999)+ ', overlap = '+str(overlap) + ')')\n",
    "plt.legend([r'predicted $\\lambda_0$',r'ground truth $\\lambda_0$'],frameon=True)\n",
    "plt.tight_layout()\n",
    "#plt.savefig('./figures/rnn_cr2_train_noise=0.999_overlap=0.2_test_clean_noise=0.999_seed=999.pdf')"
   ]
  },
  {
   "cell_type": "code",
   "execution_count": null,
   "id": "c5fe5f1e-8b1c-463e-bf4e-cf1cc65bef5a",
   "metadata": {
    "tags": []
   },
   "outputs": [],
   "source": [
    "all_noises = [2, 4, 8, 10, 12, 16, 18, 20, 24]\n",
    "fig, axes = plt.subplots(3, 3, figsize=(12, 12))\n",
    "\n",
    "\n",
    "\n",
    "for i in range(len(all_noises)):\n",
    "    high_noise_errs = []\n",
    "    noise = all_noises[i]\n",
    "    np.random.seed(999)\n",
    "    noisy_data = clean_dataS + noise * np.random.randn(dataS.shape[1])\n",
    "    \n",
    "    for k in trange(50,750):\n",
    "        padded_new_noisy_data = -np.ones(dataS.shape)\n",
    "        cutoff = k\n",
    "        padded_new_noisy_data[0,:cutoff] = noisy_data[0,:cutoff]\n",
    "        \n",
    "        with torch.no_grad():  \n",
    "            prediction = model(torch.tensor(padded_new_noisy_data).double())\n",
    "            \n",
    "        abserr = abs(prediction - E[0])\n",
    "        high_noise_errs.append(abserr.item())\n",
    "        \n",
    "    row, col = divmod(i, 3)\n",
    "    axes[row, col].scatter(list(range(50, 750)), high_noise_errs, marker='*')\n",
    "    axes[row, col].plot([50, 750], [1e-3, 1e-3], ':k')\n",
    "    axes[row, col].set_xlabel('Length of queried sequence')\n",
    "    axes[row, col].set_ylabel(r'$|\\widetilde{GSE} - GSE|$')\n",
    "    axes[row, col].set_yscale('log')\n",
    "    axes[row, col].set_title(f'test noise = {noise}, overlap = 0.2')\n",
    "    axes[row, col].legend(['abs err', 'chemical accuracy'], frameon=True)\n",
    "    fig.tight_layout()\n",
    "    #plt.savefig('./figures/rnn_cr2_train_noise=0.999_overlap=0.2_test_clean_noises_2-24_seed=999.pdf')"
   ]
  },
  {
   "cell_type": "code",
   "execution_count": null,
   "id": "5f65b176-51a1-4c83-ab99-c582077ebf65",
   "metadata": {
    "tags": []
   },
   "outputs": [],
   "source": [
    "# torch.save(model.state_dict(), 'cr2_train_noise=0.999_overlap=0.2_weights.pth')"
   ]
  },
  {
   "cell_type": "code",
   "execution_count": null,
   "id": "aa2638ef-ef67-400c-a453-da60e8b37e24",
   "metadata": {},
   "outputs": [],
   "source": [
    "all_noises = [2, 4, 8, 10, 12, 16, 18, 20, 24]\n",
    "fig, axes = plt.subplots(3, 3, figsize=(12, 12))\n",
    "\n",
    "\n",
    "\n",
    "for i in range(len(all_noises)):\n",
    "    predicted_gses = []\n",
    "    noise = all_noises[i]\n",
    "    np.random.seed(999)\n",
    "    noisy_data = clean_dataS + noise * np.random.randn(dataS.shape[1])\n",
    "    \n",
    "    for k in trange(50,750):\n",
    "        padded_new_noisy_data = -np.ones(dataS.shape)\n",
    "        cutoff = k\n",
    "        padded_new_noisy_data[0,:cutoff] = noisy_data[0,:cutoff]\n",
    "        \n",
    "        with torch.no_grad():  \n",
    "            prediction = model(torch.tensor(padded_new_noisy_data).double())\n",
    "            \n",
    "        predicted_gses.append(prediction.item())\n",
    "        \n",
    "    row, col = divmod(i, 3)\n",
    "    axes[row, col].scatter(list(range(50, 750)), predicted_gses, marker='*')\n",
    "    axes[row, col].plot([50, 750], [E[0], E[0]], ':k')\n",
    "    axes[row, col].set_xlabel('Length of queried sequence')\n",
    "    axes[row, col].set_ylabel(r'$\\lambda_0$')\n",
    "    axes[row, col].set_title(f'test noise = {noise}, overlap = 0.2')\n",
    "    axes[row, col].legend(['predicted GSE', 'reference GSE'], frameon=True)\n",
    "    fig.tight_layout()\n",
    "    #plt.savefig('./figures/rnn_cr2_train_noise=0.999_overlap=0.2_test_clean_noises_2-24_seed=999.pdf')"
   ]
  },
  {
   "cell_type": "code",
   "execution_count": null,
   "id": "91e54d68-4ab5-48c2-a41f-4cd7e73f1fa5",
   "metadata": {},
   "outputs": [],
   "source": []
  }
 ],
 "metadata": {
  "kernelspec": {
   "display_name": "pytorch-2.0.1",
   "language": "python",
   "name": "pytorch-2.0.1"
  },
  "language_info": {
   "codemirror_mode": {
    "name": "ipython",
    "version": 3
   },
   "file_extension": ".py",
   "mimetype": "text/x-python",
   "name": "python",
   "nbconvert_exporter": "python",
   "pygments_lexer": "ipython3",
   "version": "3.9.16"
  }
 },
 "nbformat": 4,
 "nbformat_minor": 5
}
