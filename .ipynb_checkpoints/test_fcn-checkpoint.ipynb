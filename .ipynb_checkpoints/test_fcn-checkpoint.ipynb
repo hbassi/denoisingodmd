{
 "cells": [
  {
   "cell_type": "code",
   "execution_count": 1,
   "id": "844de0d7-6d8c-4c2d-a142-91205a6c47fd",
   "metadata": {
    "tags": []
   },
   "outputs": [],
   "source": [
    "import numpy as np\n",
    "from scipy.linalg import svd, hankel, eig\n",
    "from matplotlib import pyplot as plt\n",
    "import scipy\n",
    "from tqdm import trange\n",
    "import torch\n",
    "import torch.nn as nn\n",
    "import torch.optim as optim\n",
    "import torch.nn.init as init\n",
    "from torch.optim.lr_scheduler import CosineAnnealingLR"
   ]
  },
  {
   "cell_type": "code",
   "execution_count": 2,
   "id": "d832e3af-8891-4338-9083-554ddd6f1669",
   "metadata": {
    "tags": []
   },
   "outputs": [
    {
     "data": {
      "text/plain": [
       "<torch._C.Generator at 0x7f3611795030>"
      ]
     },
     "execution_count": 2,
     "metadata": {},
     "output_type": "execute_result"
    }
   ],
   "source": [
    "torch.manual_seed(999)"
   ]
  },
  {
   "cell_type": "code",
   "execution_count": 3,
   "id": "9c3c0892-dfb6-4d09-96be-953f54c4456c",
   "metadata": {
    "tags": []
   },
   "outputs": [],
   "source": [
    "class FullyConnectedNet(nn.Module):\n",
    "    def __init__(self, input_size, hidden_size, output_size):\n",
    "        super(FullyConnectedNet, self).__init__()\n",
    "        \n",
    "        self.fc1 = nn.Linear(input_size, hidden_size).double()\n",
    "        self.fc2 = nn.Linear(hidden_size, hidden_size).double()\n",
    "        self.fc3 = nn.Linear(hidden_size, hidden_size).double()\n",
    "        self.fc4 = nn.Linear(hidden_size, hidden_size).double()\n",
    "        self.fc5 = nn.Linear(hidden_size, output_size).double()\n",
    "    \n",
    "        self.activation = nn.Tanh()\n",
    "    \n",
    "        self._initialize_weights()\n",
    "\n",
    "    def _initialize_weights(self):\n",
    "        init.xavier_uniform_(self.fc1.weight)\n",
    "        init.xavier_uniform_(self.fc2.weight)\n",
    "        init.xavier_uniform_(self.fc3.weight)\n",
    "        init.xavier_uniform_(self.fc4.weight)\n",
    "        init.xavier_uniform_(self.fc5.weight)\n",
    "        \n",
    "        \n",
    "        if self.fc1.bias is not None:\n",
    "            init.zeros_(self.fc1.bias)\n",
    "        if self.fc2.bias is not None:\n",
    "            init.zeros_(self.fc2.bias)\n",
    "        if self.fc3.bias is not None:\n",
    "            init.zeros_(self.fc3.bias)\n",
    "        if self.fc4.bias is not None:\n",
    "            init.zeros_(self.fc4.bias)\n",
    "        if self.fc5.bias is not None:\n",
    "            init.zeros_(self.fc5.bias)\n",
    "\n",
    "    def forward(self, x):\n",
    "        x = self.fc1(x)\n",
    "        x = self.activation(x)\n",
    "        x = self.fc2(x)\n",
    "        x = self.activation(x)\n",
    "        x = self.fc3(x)\n",
    "        x = self.activation(x)\n",
    "        x = self.fc4(x)\n",
    "        x = self.activation(x)\n",
    "        x = self.fc5(x)\n",
    "        x_eval = x[:, 0].unsqueeze(1)\n",
    "        x_evec = x[:, 1:]\n",
    "        x_evec = - x_evec / torch.linalg.norm(x_evec)\n",
    "        x = torch.concat((x_eval, x_evec), axis = 1)\n",
    "        return x\n"
   ]
  },
  {
   "cell_type": "code",
   "execution_count": 4,
   "id": "05b5ed0f-d761-47cd-80ba-0d8eb0c8e746",
   "metadata": {
    "tags": []
   },
   "outputs": [],
   "source": [
    "molecule = 'Cr2'\n",
    "noise = 1.0\n",
    "overlap = 0.0# 0: HF\n",
    "Tmax = 600\n",
    "step = 1\n",
    "dt = 3"
   ]
  },
  {
   "cell_type": "code",
   "execution_count": 5,
   "id": "609fd70d-6fe4-4c0e-9108-394f2cc80616",
   "metadata": {
    "tags": []
   },
   "outputs": [],
   "source": [
    "device = 'cuda'\n",
    "size = 4000\n",
    "input_size = Tmax +  size\n",
    "hidden_size = 1024\n",
    "output_size = 1 + size\n",
    "num_epochs = 10000\n",
    "learning_rate = 0.1"
   ]
  },
  {
   "cell_type": "code",
   "execution_count": null,
   "id": "f2bbeee4-1847-4668-a29e-ddd88b81feb9",
   "metadata": {},
   "outputs": [],
   "source": []
  }
 ],
 "metadata": {
  "kernelspec": {
   "display_name": "pytorch-2.0.1",
   "language": "python",
   "name": "pytorch-2.0.1"
  },
  "language_info": {
   "codemirror_mode": {
    "name": "ipython",
    "version": 3
   },
   "file_extension": ".py",
   "mimetype": "text/x-python",
   "name": "python",
   "nbconvert_exporter": "python",
   "pygments_lexer": "ipython3",
   "version": "3.9.16"
  }
 },
 "nbformat": 4,
 "nbformat_minor": 5
}
