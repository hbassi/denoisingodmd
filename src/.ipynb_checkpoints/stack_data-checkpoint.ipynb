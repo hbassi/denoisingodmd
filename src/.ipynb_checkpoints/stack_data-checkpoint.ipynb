{
 "cells": [
  {
   "cell_type": "code",
   "execution_count": 1,
   "id": "85e27a68-4720-446c-8520-5a5bf5699b12",
   "metadata": {
    "tags": []
   },
   "outputs": [],
   "source": [
    "import numpy as np"
   ]
  },
  {
   "cell_type": "code",
   "execution_count": 10,
   "id": "29edf8e4-e160-4b7e-8e18-f78bdaf87ebe",
   "metadata": {
    "tags": []
   },
   "outputs": [],
   "source": [
    "#thresholds = [1.0, 1.25, 1.5, 2.0, 2.25, 2.5, 3.0, 3.25, 3.5]\n",
    "#thresholds = [1.0, 1.5, 2.0, 2.5, 3.0, 3.5]\n",
    "thresholds = [2.0, 2.5, 3.0, 3.5, 4.0, 4.5]"
   ]
  },
  {
   "cell_type": "code",
   "execution_count": 11,
   "id": "9467ee52-59e4-4c94-9815-8f2fec9010da",
   "metadata": {
    "tags": []
   },
   "outputs": [
    {
     "data": {
      "text/plain": [
       "((1500,), (1500,), (1500,))"
      ]
     },
     "execution_count": 11,
     "metadata": {},
     "output_type": "execute_result"
    }
   ],
   "source": [
    "denoised_filename = f'./data/denoised_dataS_Cr2_noise=0.8_Tmax=1500_overlap=0.2_dt=1.0_ff=0.2_left_right_threshold=3.0.npy'\n",
    "noisy_filename = './data/noisy_dataS_Cr2_noise=0.8_Tmax=1500_overlap=0.2_dt=1.0_ff=0.2_left_right.npy'\n",
    "noiseless_filename = './data/noiseless_dataS_Cr2_noise=0.8_Tmax=1500_overlap=0.2_dt=1.0_ff=0.2_left_right.npy'\n",
    "noisy_dataS = np.load(noisy_filename)\n",
    "denoised_dataS = np.load(denoised_filename)\n",
    "noiseless_dataS = np.load(noiseless_filename)\n",
    "denoised_dataS.shape, noisy_dataS.shape, noiseless_dataS.shape"
   ]
  },
  {
   "cell_type": "code",
   "execution_count": 17,
   "id": "32a6e7bf-0bb0-47cf-a4aa-969707238ce6",
   "metadata": {
    "tags": []
   },
   "outputs": [
    {
     "data": {
      "text/plain": [
       "(7, 1500)"
      ]
     },
     "execution_count": 17,
     "metadata": {},
     "output_type": "execute_result"
    }
   ],
   "source": [
    "data = []\n",
    "data.append(noisy_dataS)\n",
    "for t in thresholds:\n",
    "    data.append(np.load(f'./data/denoised_dataS_Cr2_noise=0.8_Tmax=1500_overlap=0.2_dt=1.0_ff=0.2_left_right_threshold={t}.npy'))\n",
    "    #data.append(noiseless_dataS)\n",
    "stacked_array = np.vstack(data)\n",
    "stacked_array.shape"
   ]
  },
  {
   "cell_type": "code",
   "execution_count": 18,
   "id": "e6e0c171-fde1-4252-9836-4050c3643ac8",
   "metadata": {
    "tags": []
   },
   "outputs": [],
   "source": [
    "# with open('./data/stacked_noisy_denoised_dataS_Cr2_noise=0.001_Tmax=1500_overlap=0.2_dt=1.0_ff=0.2_left_right.npy', 'wb') as f:\n",
    "#     np.save(f, stacked_array)\n",
    "with open('./data/stacked_noisy_denoised_dataS_Cr2_noise=0.8_Tmax=1500_overlap=0.2_dt=1.0_ff=0.2_left_right.npy', 'wb') as f:\n",
    "    np.save(f, stacked_array)"
   ]
  },
  {
   "cell_type": "code",
   "execution_count": 19,
   "id": "ea4482d4-2d7a-41ad-b913-7c4a1eaa9d5c",
   "metadata": {},
   "outputs": [
    {
     "data": {
      "text/plain": [
       "(7, 1500)"
      ]
     },
     "execution_count": 19,
     "metadata": {},
     "output_type": "execute_result"
    }
   ],
   "source": [
    "stacked_array.shape"
   ]
  }
 ],
 "metadata": {
  "kernelspec": {
   "display_name": "NERSC Python",
   "language": "python",
   "name": "python3"
  },
  "language_info": {
   "codemirror_mode": {
    "name": "ipython",
    "version": 3
   },
   "file_extension": ".py",
   "mimetype": "text/x-python",
   "name": "python",
   "nbconvert_exporter": "python",
   "pygments_lexer": "ipython3",
   "version": "3.11.7"
  }
 },
 "nbformat": 4,
 "nbformat_minor": 5
}
