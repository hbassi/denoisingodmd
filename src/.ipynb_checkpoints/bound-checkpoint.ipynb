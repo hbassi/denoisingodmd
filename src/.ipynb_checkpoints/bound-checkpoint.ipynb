{
 "cells": [
  {
   "cell_type": "code",
   "execution_count": 1,
   "id": "cef0c9cd-17f0-44d9-b2ea-bbebb0ac3784",
   "metadata": {},
   "outputs": [],
   "source": [
    "import numpy as np\n",
    "import scipy.fft\n",
    "import matplotlib.pyplot as plt\n",
    "from scipy.io import loadmat\n",
    "import utils as ut\n",
    "import math\n",
    "from scipy.optimize import curve_fit\n",
    "from scipy.special import erf\n",
    "from tqdm import trange"
   ]
  },
  {
   "cell_type": "code",
   "execution_count": 2,
   "id": "838fc8b9-ce05-4e86-8272-857c37a572c0",
   "metadata": {},
   "outputs": [],
   "source": [
    "# load the static parameters\n",
    "overlap = 0.2\n",
    "dt = 1.0\n",
    "Tmax = 1500\n",
    "noise = 0.1\n",
    "eps = noise"
   ]
  },
  {
   "cell_type": "code",
   "execution_count": 3,
   "id": "7429230b-c103-4709-b2f5-7fa4596dde38",
   "metadata": {},
   "outputs": [],
   "source": [
    "# generate the noiseless dynamics\n",
    "data = loadmat('./data/Cr2_4000.mat')\n",
    "#data = loadmat('./data/LiH_2989.mat')\n",
    "E = data['E']\n",
    "Et = ut.lam2lamt(E, E[0] - 0.2, E[-1] + 0.2)\n",
    "phi = ut.generate_phi(overlap, len(Et))\n",
    "dataS = ut.generate_samples_der(Et, phi, dt, Tmax, n=0)"
   ]
  },
  {
   "cell_type": "code",
   "execution_count": 4,
   "id": "af6f9499-3b5a-4fee-8cf4-563efdd9d93c",
   "metadata": {},
   "outputs": [],
   "source": [
    "# Load the true (noiseless) signal and compute its length\n",
    "x_true = dataS\n",
    "N = len(x_true)"
   ]
  },
  {
   "cell_type": "code",
   "execution_count": 5,
   "id": "0acef680-9ece-44e0-96e6-0fff0c3f9295",
   "metadata": {},
   "outputs": [],
   "source": [
    "# DFT of noiseless\n",
    "x_hat = np.zeros(N, dtype=np.complex128)\n",
    "for k in range(N):\n",
    "    for n in range(N):\n",
    "        x_hat[k] += x_true[n] * np.exp(-2 * np.pi * 1j * n * k / N)"
   ]
  },
  {
   "cell_type": "code",
   "execution_count": 6,
   "id": "21b3f643-e590-4a17-a5f9-d7ad28d635bb",
   "metadata": {},
   "outputs": [],
   "source": [
    "# q(z) = exp(-z) * (1 + z)\n",
    "def q(z):\n",
    "    return np.exp(-z) * (1 + z)"
   ]
  },
  {
   "cell_type": "code",
   "execution_count": 7,
   "id": "792a92d1-7dcc-4d42-bdae-d8627c9cdf3d",
   "metadata": {},
   "outputs": [],
   "source": [
    "def combined_bound_local(tau, x_hat, X_fft_shifted, x_true, eps, N):\n",
    "    # Fourier amplitude of the true signal\n",
    "    s_abs = np.abs(x_hat)\n",
    "    s_real = np.real(x_hat)\n",
    "    s_imag = np.imag(x_hat)\n",
    "    \n",
    "    # Indicator function: True if tau >= |s_hat|\n",
    "    indicator = (tau >= s_abs)\n",
    "    \n",
    "    # Filter the noisy FFT: zero out entries below the threshold tau\n",
    "    X_fft_filtered = X_fft_shifted * (np.abs(X_fft_shifted) > tau)\n",
    "    x_denoised = scipy.fft.ifft(scipy.fft.ifftshift(X_fft_filtered))\n",
    "    x_denoised[0] = 1.0\n",
    "    # Compute the L2 error (2-norm squared) with respect to the true signal\n",
    "    LHS = np.linalg.norm(x_denoised - x_true, 2) ** 2\n",
    "    \n",
    "    # For indices where tau >= |s_hat|, compute the q function argument\n",
    "    q_argument = ((tau - s_abs) ** 2 * eps**(-2) * N**(-1) / 2)\n",
    "    q_values = q(q_argument)\n",
    "    term1_per_k = np.where(indicator, q_values, 1)\n",
    "    term1 = 2 * N * eps**2 * (1 / N) * np.sum(term1_per_k)\n",
    "    \n",
    "    # Term 2: using error functions\n",
    "    factor = np.sqrt(2 * eps**2 * N)\n",
    "    erf_term_real = erf((-s_real + tau) / factor) - erf((-s_real - tau) / factor)\n",
    "    erf_term_imag = erf((-s_imag + tau) / factor) - erf((-s_imag - tau) / factor)\n",
    "    term2_per_k = (s_abs**2 / (4 * N)) * (erf_term_real * erf_term_imag)\n",
    "    term2 = np.sum(term2_per_k)\n",
    "    \n",
    "    return term1 + term2, LHS"
   ]
  },
  {
   "cell_type": "code",
   "execution_count": 8,
   "id": "6cfd3ffc-f3c1-4ad1-9017-1d467005e205",
   "metadata": {},
   "outputs": [],
   "source": [
    "# noisy trajectories to generate\n",
    "num_realizations = 100\n",
    "threshold_factors = np.linspace(0, 15, 350)"
   ]
  },
  {
   "cell_type": "code",
   "execution_count": 9,
   "id": "1d12e03e-99ba-4deb-a9f2-b92d08de5ac5",
   "metadata": {},
   "outputs": [],
   "source": [
    "bound_all = np.zeros((num_realizations, len(threshold_factors)))\n",
    "lhs_all = np.zeros((num_realizations, len(threshold_factors)))\n",
    "tau_all = np.zeros((num_realizations, len(threshold_factors)))"
   ]
  },
  {
   "cell_type": "code",
   "execution_count": 10,
   "id": "54c8354f-41f8-4552-8f81-9422b4adaff9",
   "metadata": {},
   "outputs": [
    {
     "name": "stderr",
     "output_type": "stream",
     "text": [
      "100%|██████████| 100/100 [00:07<00:00, 13.30it/s]\n"
     ]
    }
   ],
   "source": [
    "for r in trange(num_realizations):\n",
    "    # Generate a noisy realization of the signal\n",
    "    ndataS = dataS + noise * np.random.randn(Tmax) + 1j * noise * np.random.randn(Tmax)\n",
    "    clipped = np.clip(ndataS, -1, 1)\n",
    "    clipped[0] = 1.0  \n",
    "    x = clipped\n",
    "    \n",
    "    # Compute the FFT of the noisy signal (using the real part)\n",
    "    X_fft = scipy.fft.fft(x)\n",
    "    X_fft_shifted = scipy.fft.fftshift(X_fft)\n",
    "    \n",
    "    # Compute a baseline value from the median of the absolute FFT values\n",
    "    baseline = np.median(np.abs(X_fft_shifted))\n",
    "    # Compute tau values for this realization using the threshold factors\n",
    "    taus_local = threshold_factors \n",
    "    tau_all[r, :] = taus_local\n",
    "    \n",
    "    # For each tau in this realization, compute the bound and LHS\n",
    "    for i, tau in enumerate(taus_local):\n",
    "        bound_val, LHS_val = combined_bound_local(tau, x_hat, X_fft_shifted, x_true, eps, N)\n",
    "        bound_all[r, i] = bound_val\n",
    "        lhs_all[r, i] = LHS_val"
   ]
  },
  {
   "cell_type": "code",
   "execution_count": 11,
   "id": "a0d26520-2978-47ed-9520-a8da883fcfac",
   "metadata": {},
   "outputs": [],
   "source": [
    "# Average (and standard deviation) computed at each threshold factor index\n",
    "mean_bound = np.mean(bound_all, axis=0)\n",
    "std_bound = np.std(bound_all, axis=0)\n",
    "mean_lhs = np.mean(lhs_all, axis=0)\n",
    "std_lhs = np.std(lhs_all, axis=0)\n",
    "mean_tau = np.mean(tau_all, axis=0)"
   ]
  },
  {
   "cell_type": "code",
   "execution_count": 14,
   "id": "b69cb19a-22de-4b7b-9dc3-fa0ccbf076de",
   "metadata": {
    "scrolled": true
   },
   "outputs": [
    {
     "data": {
      "image/png": "[encoded data removed]",
      "text/plain": [
       "<Figure size 800x600 with 1 Axes>"
      ]
     },
     "metadata": {},
     "output_type": "display_data"
    }
   ],
   "source": [
    "plt.figure(figsize=(8, 6))\n",
    "plt.plot(mean_tau, mean_bound, label='RHS')\n",
    "plt.fill_between(mean_tau, mean_bound - std_bound, mean_bound + std_bound, alpha=0.3)\n",
    "plt.plot(mean_tau, mean_lhs, 'r--', label='LHS')\n",
    "plt.fill_between(mean_tau, mean_lhs - std_lhs, mean_lhs + std_lhs, color='red', alpha=0.3)\n",
    "plt.xlabel(r'$\\tau$')\n",
    "plt.title(r'Cr2 $\\tau $ vs bound Eqn (17)')\n",
    "plt.plot([mean_tau[0], mean_tau[-1]], [2 * N * eps**2, 2 * N * eps**2 ], 'k:')\n",
    "plt.legend()\n",
    "#plt.savefig('./figures/Cr2_bound.pdf')\n",
    "plt.show()"
   ]
  },
  {
   "cell_type": "code",
   "execution_count": 13,
   "id": "cb7b2275-c100-4669-824f-84e8d5d71830",
   "metadata": {},
   "outputs": [
    {
     "data": {
      "text/plain": [
       "array([ 0.        ,  0.04297994,  0.08595989,  0.12893983,  0.17191977,\n",
       "        0.21489971,  0.25787966,  0.3008596 ,  0.34383954,  0.38681948,\n",
       "        0.42979943,  0.47277937,  0.51575931,  0.55873926,  0.6017192 ,\n",
       "        0.64469914,  0.68767908,  0.73065903,  0.77363897,  0.81661891,\n",
       "        0.85959885,  0.9025788 ,  0.94555874,  0.98853868,  1.03151862,\n",
       "        1.07449857,  1.11747851,  1.16045845,  1.2034384 ,  1.24641834,\n",
       "        1.28939828,  1.33237822,  1.37535817,  1.41833811,  1.46131805,\n",
       "        1.50429799,  1.54727794,  1.59025788,  1.63323782,  1.67621777,\n",
       "        1.71919771,  1.76217765,  1.80515759,  1.84813754,  1.89111748,\n",
       "        1.93409742,  1.97707736,  2.02005731,  2.06303725,  2.10601719,\n",
       "        2.14899713,  2.19197708,  2.23495702,  2.27793696,  2.32091691,\n",
       "        2.36389685,  2.40687679,  2.44985673,  2.49283668,  2.53581662,\n",
       "        2.57879656,  2.6217765 ,  2.66475645,  2.70773639,  2.75071633,\n",
       "        2.79369628,  2.83667622,  2.87965616,  2.9226361 ,  2.96561605,\n",
       "        3.00859599,  3.05157593,  3.09455587,  3.13753582,  3.18051576,\n",
       "        3.2234957 ,  3.26647564,  3.30945559,  3.35243553,  3.39541547,\n",
       "        3.43839542,  3.48137536,  3.5243553 ,  3.56733524,  3.61031519,\n",
       "        3.65329513,  3.69627507,  3.73925501,  3.78223496,  3.8252149 ,\n",
       "        3.86819484,  3.91117479,  3.95415473,  3.99713467,  4.04011461,\n",
       "        4.08309456,  4.1260745 ,  4.16905444,  4.21203438,  4.25501433,\n",
       "        4.29799427,  4.34097421,  4.38395415,  4.4269341 ,  4.46991404,\n",
       "        4.51289398,  4.55587393,  4.59885387,  4.64183381,  4.68481375,\n",
       "        4.7277937 ,  4.77077364,  4.81375358,  4.85673352,  4.89971347,\n",
       "        4.94269341,  4.98567335,  5.0286533 ,  5.07163324,  5.11461318,\n",
       "        5.15759312,  5.20057307,  5.24355301,  5.28653295,  5.32951289,\n",
       "        5.37249284,  5.41547278,  5.45845272,  5.50143266,  5.54441261,\n",
       "        5.58739255,  5.63037249,  5.67335244,  5.71633238,  5.75931232,\n",
       "        5.80229226,  5.84527221,  5.88825215,  5.93123209,  5.97421203,\n",
       "        6.01719198,  6.06017192,  6.10315186,  6.14613181,  6.18911175,\n",
       "        6.23209169,  6.27507163,  6.31805158,  6.36103152,  6.40401146,\n",
       "        6.4469914 ,  6.48997135,  6.53295129,  6.57593123,  6.61891117,\n",
       "        6.66189112,  6.70487106,  6.747851  ,  6.79083095,  6.83381089,\n",
       "        6.87679083,  6.91977077,  6.96275072,  7.00573066,  7.0487106 ,\n",
       "        7.09169054,  7.13467049,  7.17765043,  7.22063037,  7.26361032,\n",
       "        7.30659026,  7.3495702 ,  7.39255014,  7.43553009,  7.47851003,\n",
       "        7.52148997,  7.56446991,  7.60744986,  7.6504298 ,  7.69340974,\n",
       "        7.73638968,  7.77936963,  7.82234957,  7.86532951,  7.90830946,\n",
       "        7.9512894 ,  7.99426934,  8.03724928,  8.08022923,  8.12320917,\n",
       "        8.16618911,  8.20916905,  8.252149  ,  8.29512894,  8.33810888,\n",
       "        8.38108883,  8.42406877,  8.46704871,  8.51002865,  8.5530086 ,\n",
       "        8.59598854,  8.63896848,  8.68194842,  8.72492837,  8.76790831,\n",
       "        8.81088825,  8.85386819,  8.89684814,  8.93982808,  8.98280802,\n",
       "        9.02578797,  9.06876791,  9.11174785,  9.15472779,  9.19770774,\n",
       "        9.24068768,  9.28366762,  9.32664756,  9.36962751,  9.41260745,\n",
       "        9.45558739,  9.49856734,  9.54154728,  9.58452722,  9.62750716,\n",
       "        9.67048711,  9.71346705,  9.75644699,  9.79942693,  9.84240688,\n",
       "        9.88538682,  9.92836676,  9.9713467 , 10.01432665, 10.05730659,\n",
       "       10.10028653, 10.14326648, 10.18624642, 10.22922636, 10.2722063 ,\n",
       "       10.31518625, 10.35816619, 10.40114613, 10.44412607, 10.48710602,\n",
       "       10.53008596, 10.5730659 , 10.61604585, 10.65902579, 10.70200573,\n",
       "       10.74498567, 10.78796562, 10.83094556, 10.8739255 , 10.91690544,\n",
       "       10.95988539, 11.00286533, 11.04584527, 11.08882521, 11.13180516,\n",
       "       11.1747851 , 11.21776504, 11.26074499, 11.30372493, 11.34670487,\n",
       "       11.38968481, 11.43266476, 11.4756447 , 11.51862464, 11.56160458,\n",
       "       11.60458453, 11.64756447, 11.69054441, 11.73352436, 11.7765043 ,\n",
       "       11.81948424, 11.86246418, 11.90544413, 11.94842407, 11.99140401,\n",
       "       12.03438395, 12.0773639 , 12.12034384, 12.16332378, 12.20630372,\n",
       "       12.24928367, 12.29226361, 12.33524355, 12.3782235 , 12.42120344,\n",
       "       12.46418338, 12.50716332, 12.55014327, 12.59312321, 12.63610315,\n",
       "       12.67908309, 12.72206304, 12.76504298, 12.80802292, 12.85100287,\n",
       "       12.89398281, 12.93696275, 12.97994269, 13.02292264, 13.06590258,\n",
       "       13.10888252, 13.15186246, 13.19484241, 13.23782235, 13.28080229,\n",
       "       13.32378223, 13.36676218, 13.40974212, 13.45272206, 13.49570201,\n",
       "       13.53868195, 13.58166189, 13.62464183, 13.66762178, 13.71060172,\n",
       "       13.75358166, 13.7965616 , 13.83954155, 13.88252149, 13.92550143,\n",
       "       13.96848138, 14.01146132, 14.05444126, 14.0974212 , 14.14040115,\n",
       "       14.18338109, 14.22636103, 14.26934097, 14.31232092, 14.35530086,\n",
       "       14.3982808 , 14.44126074, 14.48424069, 14.52722063, 14.57020057,\n",
       "       14.61318052, 14.65616046, 14.6991404 , 14.74212034, 14.78510029,\n",
       "       14.82808023, 14.87106017, 14.91404011, 14.95702006, 15.        ])"
      ]
     },
     "execution_count": 13,
     "metadata": {},
     "output_type": "execute_result"
    }
   ],
   "source": [
    "mean_tau"
   ]
  },
  {
   "cell_type": "code",
   "execution_count": null,
   "id": "aea0feb8-7ca4-4a43-978f-dea1acb84425",
   "metadata": {},
   "outputs": [],
   "source": []
  }
 ],
 "metadata": {
  "kernelspec": {
   "display_name": "NERSC Python",
   "language": "python",
   "name": "python3"
  },
  "language_info": {
   "codemirror_mode": {
    "name": "ipython",
    "version": 3
   },
   "file_extension": ".py",
   "mimetype": "text/x-python",
   "name": "python",
   "nbconvert_exporter": "python",
   "pygments_lexer": "ipython3",
   "version": "3.11.7"
  }
 },
 "nbformat": 4,
 "nbformat_minor": 5
}
