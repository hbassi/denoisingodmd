{
 "cells": [
  {
   "cell_type": "code",
   "execution_count": 1,
   "id": "85e27a68-4720-446c-8520-5a5bf5699b12",
   "metadata": {
    "tags": []
   },
   "outputs": [],
   "source": [
    "import numpy as np"
   ]
  },
  {
   "cell_type": "code",
   "execution_count": 2,
   "id": "29edf8e4-e160-4b7e-8e18-f78bdaf87ebe",
   "metadata": {
    "tags": []
   },
   "outputs": [],
   "source": [
    "#thresholds = [1.0, 1.25, 1.5, 2.0, 2.25, 2.5, 3.0, 3.25, 3.5]\n",
    "thresholds = [1.0, 1.5, 2.0, 2.5, 3.0, 3.5]"
   ]
  },
  {
   "cell_type": "code",
   "execution_count": 3,
   "id": "9467ee52-59e4-4c94-9815-8f2fec9010da",
   "metadata": {
    "tags": []
   },
   "outputs": [
    {
     "data": {
      "text/plain": [
       "((1500,), (1500,))"
      ]
     },
     "execution_count": 3,
     "metadata": {},
     "output_type": "execute_result"
    }
   ],
   "source": [
    "denoised_filename = f'./data/denoised_dataS_Cr2_noise=0.1_Tmax=1500_overlap=0.15_dt=1.0_ff=0.2_left_right_threshold=1.0.npy'\n",
    "noisy_filename = './data/noisy_dataS_Cr2_noise=0.1_Tmax=1500_overlap=0.15_dt=1.0_ff=0.2_left_right.npy'\n",
    "noisy_dataS = np.load(noisy_filename)\n",
    "denoised_dataS = np.load(denoised_filename)\n",
    "denoised_dataS.shape, noisy_dataS.shape"
   ]
  },
  {
   "cell_type": "code",
   "execution_count": 4,
   "id": "cb63c6b7-b096-485d-a9d1-63f6dd9e5cde",
   "metadata": {
    "tags": []
   },
   "outputs": [],
   "source": [
    "# stacked_array = np.empty(2 * len(denoised_dataS), dtype=denoised_dataS.dtype)\n",
    "# stacked_array[0::2] = denoised_dataS  # Fill even indices with s(t)\n",
    "# stacked_array[1::2] = noisy_dataS    # Fill odd indices with denoised s(t)"
   ]
  },
  {
   "cell_type": "code",
   "execution_count": 5,
   "id": "32a6e7bf-0bb0-47cf-a4aa-969707238ce6",
   "metadata": {
    "tags": []
   },
   "outputs": [
    {
     "data": {
      "text/plain": [
       "(7, 1500)"
      ]
     },
     "execution_count": 5,
     "metadata": {},
     "output_type": "execute_result"
    }
   ],
   "source": [
    "data = []\n",
    "data.append(noisy_dataS)\n",
    "for t in thresholds:\n",
    "    data.append(np.load(f'./data/denoised_dataS_Cr2_noise=0.1_Tmax=1500_overlap=0.15_dt=1.0_ff=0.2_left_right_threshold={t}.npy'))\n",
    "stacked_array = np.vstack(data)\n",
    "stacked_array.shape"
   ]
  },
  {
   "cell_type": "code",
   "execution_count": 6,
   "id": "33b19bae-9549-478c-8128-1133d47c3eae",
   "metadata": {
    "tags": []
   },
   "outputs": [],
   "source": [
    "# stacked_array = np.vstack((denoised_dataS, noisy_dataS))"
   ]
  },
  {
   "cell_type": "code",
   "execution_count": 7,
   "id": "cb72743a-3ac4-47a7-9cda-6efae2dada40",
   "metadata": {
    "tags": []
   },
   "outputs": [],
   "source": [
    "# stacked_array.shape"
   ]
  },
  {
   "cell_type": "code",
   "execution_count": 8,
   "id": "636f65ca-f93e-46a3-b6b5-c16439bfde69",
   "metadata": {
    "tags": []
   },
   "outputs": [],
   "source": [
    "# stacked_array.T.shape"
   ]
  },
  {
   "cell_type": "code",
   "execution_count": 9,
   "id": "e6e0c171-fde1-4252-9836-4050c3643ac8",
   "metadata": {
    "tags": []
   },
   "outputs": [],
   "source": [
    "with open('./data/stacked_noisy_denoised_dataS_Cr2_noise=0.1_Tmax=1500_overlap=0.15_dt=1.0_ff=0.2_left_right.npy', 'wb') as f:\n",
    "    np.save(f, stacked_array)"
   ]
  },
  {
   "cell_type": "code",
   "execution_count": 10,
   "id": "7f26ed2d-f53e-4460-8c70-c81829af87f0",
   "metadata": {},
   "outputs": [
    {
     "data": {
      "text/plain": [
       "array([ 1.        ,  1.        ,  0.65989756,  0.18240032, -0.10661715,\n",
       "       -0.39572936, -0.28440449, -0.62644202, -0.15857029, -0.0653439 ])"
      ]
     },
     "execution_count": 10,
     "metadata": {},
     "output_type": "execute_result"
    }
   ],
   "source": [
    "noisy_dataS[:10].real"
   ]
  },
  {
   "cell_type": "code",
   "execution_count": 11,
   "id": "ad869add-9c15-46de-a49a-e758bcbf3281",
   "metadata": {
    "tags": []
   },
   "outputs": [
    {
     "data": {
      "text/plain": [
       "array([ 1.        ,  0.91338714,  0.63156422,  0.25966075, -0.08266506,\n",
       "       -0.33732829, -0.42536857, -0.4382187 , -0.28963981, -0.1504203 ])"
      ]
     },
     "execution_count": 11,
     "metadata": {},
     "output_type": "execute_result"
    }
   ],
   "source": [
    "denoised_dataS[:10].real"
   ]
  },
  {
   "cell_type": "code",
   "execution_count": 12,
   "id": "42d1ea6b-20e9-46ba-94bb-fc78bf4f4e6d",
   "metadata": {
    "tags": []
   },
   "outputs": [
    {
     "data": {
      "text/plain": [
       "array([[ 1.        +0.j        ,  1.        +0.j        ,\n",
       "         0.65989756+0.60791245j, ..., -0.03198743-0.00767358j,\n",
       "        -0.32535822+0.12121509j, -0.07946999-0.06040007j],\n",
       "       [ 1.        +0.j        ,  0.91338714+0.33306203j,\n",
       "         0.63156422+0.5439111j , ..., -0.07785212+0.0360738j ,\n",
       "        -0.31962758-0.02784719j,  0.05650331-0.0648028j ],\n",
       "       [ 1.        +0.j        ,  0.91338714+0.33306203j,\n",
       "         0.63156422+0.5439111j , ..., -0.11572751-0.06614306j,\n",
       "        -0.23713716-0.07332296j,  0.04801674-0.12254868j],\n",
       "       [ 1.        +0.j        ,  0.91338714+0.33306203j,\n",
       "         0.63156422+0.5439111j , ..., -0.10028893-0.03039156j,\n",
       "        -0.15063525-0.14364744j,  0.00634965-0.11297297j],\n",
       "       [ 1.        +0.j        ,  0.91338714+0.33306203j,\n",
       "         0.63156422+0.5439111j , ..., -0.13445277-0.0065198j ,\n",
       "        -0.08780668-0.09666958j,  0.00674568-0.09797583j]])"
      ]
     },
     "execution_count": 12,
     "metadata": {},
     "output_type": "execute_result"
    }
   ],
   "source": [
    "stacked_array[:5]"
   ]
  },
  {
   "cell_type": "code",
   "execution_count": null,
   "id": "42260ec8-eb1d-42b3-a1cc-2c7987b9aebd",
   "metadata": {},
   "outputs": [],
   "source": []
  },
  {
   "cell_type": "code",
   "execution_count": null,
   "id": "52489b10-adad-4406-bc74-d73d8671c310",
   "metadata": {},
   "outputs": [],
   "source": []
  }
 ],
 "metadata": {
  "kernelspec": {
   "display_name": "NERSC Python",
   "language": "python",
   "name": "python3"
  },
  "language_info": {
   "codemirror_mode": {
    "name": "ipython",
    "version": 3
   },
   "file_extension": ".py",
   "mimetype": "text/x-python",
   "name": "python",
   "nbconvert_exporter": "python",
   "pygments_lexer": "ipython3",
   "version": "3.11.7"
  }
 },
 "nbformat": 4,
 "nbformat_minor": 5
}
